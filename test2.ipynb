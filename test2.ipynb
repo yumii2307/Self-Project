{
 "cells": [
  {
   "cell_type": "code",
   "execution_count": 1,
   "metadata": {},
   "outputs": [],
   "source": [
    "import pandas as pd\n",
    "date_ver = pd.read_csv('시대별.csv')\n",
    "genre_ver = pd.read_csv('melon_genre_test2.csv')"
   ]
  },
  {
   "cell_type": "code",
   "execution_count": 4,
   "metadata": {},
   "outputs": [
    {
     "data": {
      "text/html": [
       "<div>\n",
       "<style scoped>\n",
       "    .dataframe tbody tr th:only-of-type {\n",
       "        vertical-align: middle;\n",
       "    }\n",
       "\n",
       "    .dataframe tbody tr th {\n",
       "        vertical-align: top;\n",
       "    }\n",
       "\n",
       "    .dataframe thead th {\n",
       "        text-align: right;\n",
       "    }\n",
       "</style>\n",
       "<table border=\"1\" class=\"dataframe\">\n",
       "  <thead>\n",
       "    <tr style=\"text-align: right;\">\n",
       "      <th></th>\n",
       "      <th>songId</th>\n",
       "      <th>title</th>\n",
       "      <th>artist</th>\n",
       "      <th>genre</th>\n",
       "      <th>album</th>\n",
       "      <th>lyricist</th>\n",
       "      <th>composer</th>\n",
       "      <th>date</th>\n",
       "      <th>img</th>\n",
       "      <th>comment</th>\n",
       "      <th>like</th>\n",
       "      <th>lyric</th>\n",
       "    </tr>\n",
       "  </thead>\n",
       "  <tbody>\n",
       "    <tr>\n",
       "      <th>0</th>\n",
       "      <td>2741416</td>\n",
       "      <td>Bad Girl Good Girl</td>\n",
       "      <td>미쓰에이</td>\n",
       "      <td>댄스</td>\n",
       "      <td>Bad But Good</td>\n",
       "      <td>박진영</td>\n",
       "      <td>박진영</td>\n",
       "      <td>20100701</td>\n",
       "      <td>https://cdnimg.melon.co.kr/cm/album/images/009...</td>\n",
       "      <td>156</td>\n",
       "      <td>43897</td>\n",
       "      <td>You don't know meYou don't know meYou don't kn...</td>\n",
       "    </tr>\n",
       "  </tbody>\n",
       "</table>\n",
       "</div>"
      ],
      "text/plain": [
       "    songId               title artist genre         album lyricist composer   \n",
       "0  2741416  Bad Girl Good Girl   미쓰에이    댄스  Bad But Good      박진영      박진영  \\\n",
       "\n",
       "       date                                                img comment   like   \n",
       "0  20100701  https://cdnimg.melon.co.kr/cm/album/images/009...     156  43897  \\\n",
       "\n",
       "                                               lyric  \n",
       "0  You don't know meYou don't know meYou don't kn...  "
      ]
     },
     "execution_count": 4,
     "metadata": {},
     "output_type": "execute_result"
    }
   ],
   "source": [
    "date_ver.head(1)"
   ]
  },
  {
   "cell_type": "code",
   "execution_count": 5,
   "metadata": {},
   "outputs": [
    {
     "data": {
      "text/html": [
       "<div>\n",
       "<style scoped>\n",
       "    .dataframe tbody tr th:only-of-type {\n",
       "        vertical-align: middle;\n",
       "    }\n",
       "\n",
       "    .dataframe tbody tr th {\n",
       "        vertical-align: top;\n",
       "    }\n",
       "\n",
       "    .dataframe thead th {\n",
       "        text-align: right;\n",
       "    }\n",
       "</style>\n",
       "<table border=\"1\" class=\"dataframe\">\n",
       "  <thead>\n",
       "    <tr style=\"text-align: right;\">\n",
       "      <th></th>\n",
       "      <th>songId</th>\n",
       "      <th>title</th>\n",
       "      <th>artist</th>\n",
       "      <th>genre</th>\n",
       "      <th>album</th>\n",
       "      <th>lyricist</th>\n",
       "      <th>composer</th>\n",
       "      <th>date</th>\n",
       "      <th>img</th>\n",
       "      <th>comment</th>\n",
       "      <th>like</th>\n",
       "      <th>lyric</th>\n",
       "    </tr>\n",
       "  </thead>\n",
       "  <tbody>\n",
       "    <tr>\n",
       "      <th>0</th>\n",
       "      <td>36471939</td>\n",
       "      <td>너와 30일 (feat. 수조)</td>\n",
       "      <td>레터 플로우</td>\n",
       "      <td>발라드, 인디음악</td>\n",
       "      <td>내 노래 리메이크 프로젝트 Vol. 1</td>\n",
       "      <td>레터 플로우</td>\n",
       "      <td>레터 플로우</td>\n",
       "      <td>20230525</td>\n",
       "      <td>https://cdnimg.melon.co.kr/cm2/album/images/11...</td>\n",
       "      <td>0</td>\n",
       "      <td>14</td>\n",
       "      <td>우리 그날을 기억해처음 네가 날 봤던 날떨어지는 꽃잎 아래눈물을 흘리던내가 넌 시작...</td>\n",
       "    </tr>\n",
       "  </tbody>\n",
       "</table>\n",
       "</div>"
      ],
      "text/plain": [
       "     songId              title  artist      genre                  album   \n",
       "0  36471939  너와 30일 (feat. 수조)  레터 플로우  발라드, 인디음악  내 노래 리메이크 프로젝트 Vol. 1  \\\n",
       "\n",
       "  lyricist composer      date   \n",
       "0   레터 플로우   레터 플로우  20230525  \\\n",
       "\n",
       "                                                 img comment  like   \n",
       "0  https://cdnimg.melon.co.kr/cm2/album/images/11...       0    14  \\\n",
       "\n",
       "                                               lyric  \n",
       "0  우리 그날을 기억해처음 네가 날 봤던 날떨어지는 꽃잎 아래눈물을 흘리던내가 넌 시작...  "
      ]
     },
     "execution_count": 5,
     "metadata": {},
     "output_type": "execute_result"
    }
   ],
   "source": [
    "genre_ver.head(1)"
   ]
  },
  {
   "cell_type": "code",
   "execution_count": null,
   "metadata": {},
   "outputs": [],
   "source": []
  }
 ],
 "metadata": {
  "kernelspec": {
   "display_name": "base",
   "language": "python",
   "name": "python3"
  },
  "language_info": {
   "codemirror_mode": {
    "name": "ipython",
    "version": 3
   },
   "file_extension": ".py",
   "mimetype": "text/x-python",
   "name": "python",
   "nbconvert_exporter": "python",
   "pygments_lexer": "ipython3",
   "version": "3.10.10"
  },
  "orig_nbformat": 4
 },
 "nbformat": 4,
 "nbformat_minor": 2
}
