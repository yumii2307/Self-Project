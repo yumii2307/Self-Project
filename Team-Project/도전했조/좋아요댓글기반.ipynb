{
 "cells": [
  {
   "attachments": {},
   "cell_type": "markdown",
   "metadata": {},
   "source": [
    "### 좋아요수 / 댓글 분산 적용 기반 추천(명곡?)\n",
    "- Input(title, artist) : contains로 찾기 => 결과 songId 한 개만 반환하도록 한다.\n",
    "- I am 찾기 -> 전체 (좋아요+댓글) -> 3번째 분산 데이터들에서 -> 가사분석해서 비슷한 노래 찾기 top5\n",
    "- I am 찾기 -> 가사분석해서 비슷한 노래 찾기 -> 전체 (좋아요+댓글) -> 3번째 분산 데이터들에서 top5\n",
    "- 반환된 songId 들의 정보 출력"
   ]
  },
  {
   "cell_type": "code",
   "execution_count": 1,
   "metadata": {},
   "outputs": [],
   "source": [
    "import numpy as np\n",
    "import pandas as pd"
   ]
  },
  {
   "cell_type": "code",
   "execution_count": 2,
   "metadata": {},
   "outputs": [
    {
     "data": {
      "text/html": [
       "<div>\n",
       "<style scoped>\n",
       "    .dataframe tbody tr th:only-of-type {\n",
       "        vertical-align: middle;\n",
       "    }\n",
       "\n",
       "    .dataframe tbody tr th {\n",
       "        vertical-align: top;\n",
       "    }\n",
       "\n",
       "    .dataframe thead th {\n",
       "        text-align: right;\n",
       "    }\n",
       "</style>\n",
       "<table border=\"1\" class=\"dataframe\">\n",
       "  <thead>\n",
       "    <tr style=\"text-align: right;\">\n",
       "      <th></th>\n",
       "      <th>songId</th>\n",
       "      <th>title</th>\n",
       "      <th>artist</th>\n",
       "      <th>genre</th>\n",
       "      <th>album</th>\n",
       "      <th>lyricist</th>\n",
       "      <th>composer</th>\n",
       "      <th>date</th>\n",
       "      <th>img</th>\n",
       "      <th>comment</th>\n",
       "      <th>like</th>\n",
       "      <th>lyric</th>\n",
       "      <th>plylstSeq</th>\n",
       "    </tr>\n",
       "  </thead>\n",
       "  <tbody>\n",
       "    <tr>\n",
       "      <th>0</th>\n",
       "      <td>418168</td>\n",
       "      <td>희재</td>\n",
       "      <td>성시경</td>\n",
       "      <td>발라드 국내영화</td>\n",
       "      <td>국화꽃 향기 OST</td>\n",
       "      <td>양재선</td>\n",
       "      <td>MGR</td>\n",
       "      <td>20030201.0</td>\n",
       "      <td>https://cdnimg.melon.co.kr/cm/album/images/000...</td>\n",
       "      <td>332</td>\n",
       "      <td>138267</td>\n",
       "      <td>햇살은 우릴 위해 내리고 \\n바람도 서롤 감싸게 했죠 \\n우리 웃음속에 계절은 오고...</td>\n",
       "      <td>445029956 411111859</td>\n",
       "    </tr>\n",
       "    <tr>\n",
       "      <th>1</th>\n",
       "      <td>35609035</td>\n",
       "      <td>인생은 뷰티풀</td>\n",
       "      <td>김호중</td>\n",
       "      <td>발라드 국내영화</td>\n",
       "      <td>인생은 뷰티풀: 비타돌체</td>\n",
       "      <td>김호중</td>\n",
       "      <td>김호중</td>\n",
       "      <td>20220907.0</td>\n",
       "      <td>https://cdnimg.melon.co.kr/cm2/album/images/11...</td>\n",
       "      <td>197</td>\n",
       "      <td>17322</td>\n",
       "      <td>하나만 알고 둘은\\n잘 모르는 사람입니다\\n하루는 비틀거리고\\n하루는 뒤뚱거리고\\n...</td>\n",
       "      <td>457536944 474137187</td>\n",
       "    </tr>\n",
       "  </tbody>\n",
       "</table>\n",
       "</div>"
      ],
      "text/plain": [
       "     songId    title artist     genre          album lyricist composer   \n",
       "0    418168       희재    성시경  발라드 국내영화     국화꽃 향기 OST      양재선      MGR  \\\n",
       "1  35609035  인생은 뷰티풀    김호중  발라드 국내영화  인생은 뷰티풀: 비타돌체      김호중      김호중   \n",
       "\n",
       "         date                                                img  comment   \n",
       "0  20030201.0  https://cdnimg.melon.co.kr/cm/album/images/000...      332  \\\n",
       "1  20220907.0  https://cdnimg.melon.co.kr/cm2/album/images/11...      197   \n",
       "\n",
       "     like                                              lyric   \n",
       "0  138267  햇살은 우릴 위해 내리고 \\n바람도 서롤 감싸게 했죠 \\n우리 웃음속에 계절은 오고...  \\\n",
       "1   17322  하나만 알고 둘은\\n잘 모르는 사람입니다\\n하루는 비틀거리고\\n하루는 뒤뚱거리고\\n...   \n",
       "\n",
       "             plylstSeq  \n",
       "0  445029956 411111859  \n",
       "1  457536944 474137187  "
      ]
     },
     "execution_count": 2,
     "metadata": {},
     "output_type": "execute_result"
    }
   ],
   "source": [
    "df = pd.read_csv('data/melon_song.csv')\n",
    "df.head(2)"
   ]
  },
  {
   "cell_type": "code",
   "execution_count": 3,
   "metadata": {},
   "outputs": [],
   "source": [
    "# 데이터 처리를 위한 작업\n",
    "df.date.fillna(0, inplace=True)\n",
    "df['date'] = df.date.astype(int).astype(str)\n",
    "df.fillna('', inplace=True)\n",
    "df['comment_like_total'] = df.comment + df.like\n",
    "df['songId'] = df.songId.astype(str)"
   ]
  },
  {
   "cell_type": "code",
   "execution_count": 4,
   "metadata": {},
   "outputs": [],
   "source": [
    "# 한글 불용어 처리\n",
    "with open('data/불용어.txt') as st:\n",
    "    lines = st.readlines()\n",
    "stop_words = [line.split('\\t')[0] for line in lines]\n",
    "stop_words.extend('은 는 를 도 을 며 의 에 게 니 거 로 요 과 래 랑 파 여 에게'.split())"
   ]
  },
  {
   "cell_type": "code",
   "execution_count": 5,
   "metadata": {},
   "outputs": [],
   "source": [
    "from konlpy.tag import Okt\n",
    "okt = Okt()"
   ]
  },
  {
   "cell_type": "code",
   "execution_count": 6,
   "metadata": {},
   "outputs": [],
   "source": [
    "lyrics = []\n",
    "for lyric in df.lyric:\n",
    "    lyric = lyric.replace('\\n', ' ')\n",
    "    morphs = okt.morphs(lyric, stem=True)\n",
    "    tmp = [word for word in morphs if word not in stop_words]\n",
    "    lyrics.append(' '.join(tmp))\n",
    "df['morphs'] = lyrics"
   ]
  },
  {
   "cell_type": "code",
   "execution_count": 7,
   "metadata": {},
   "outputs": [],
   "source": [
    "# 학습할 데이터열 생성\n",
    "df['total'] = df.morphs + (' ' + df.title) + (' ' + df.artist) * 2 + (' ' + df.composer) * 2 + (' ' + df.lyricist) * 2 + (' ' + df.genre) * 3"
   ]
  },
  {
   "cell_type": "code",
   "execution_count": 8,
   "metadata": {},
   "outputs": [],
   "source": [
    "df.set_index('songId', inplace=True)\n",
    "df.reset_index(inplace=True)"
   ]
  },
  {
   "cell_type": "code",
   "execution_count": 9,
   "metadata": {},
   "outputs": [],
   "source": [
    "from sklearn.feature_extraction.text import TfidfVectorizer\n",
    "tvect = TfidfVectorizer(stop_words='english')\n",
    "total_tv = tvect.fit_transform(df.total)"
   ]
  },
  {
   "cell_type": "code",
   "execution_count": 10,
   "metadata": {},
   "outputs": [],
   "source": [
    "indices = pd.Series(df.index, index=df.songId)"
   ]
  },
  {
   "cell_type": "code",
   "execution_count": 11,
   "metadata": {},
   "outputs": [],
   "source": [
    "from sklearn.metrics.pairwise import cosine_similarity\n",
    "cosine_sim = cosine_similarity(total_tv)"
   ]
  },
  {
   "cell_type": "code",
   "execution_count": 12,
   "metadata": {},
   "outputs": [],
   "source": [
    "def get_recommendation(songId, cos_sim):\n",
    "    index = indices[songId]\n",
    "    sim_scores = pd.Series(cos_sim[index])\n",
    "    song_indices = sim_scores.sort_values(ascending=False).head(31).tail(30).index\n",
    "    return df.songId.iloc[song_indices]"
   ]
  },
  {
   "cell_type": "code",
   "execution_count": 13,
   "metadata": {},
   "outputs": [
    {
     "data": {
      "text/html": [
       "<div>\n",
       "<style scoped>\n",
       "    .dataframe tbody tr th:only-of-type {\n",
       "        vertical-align: middle;\n",
       "    }\n",
       "\n",
       "    .dataframe tbody tr th {\n",
       "        vertical-align: top;\n",
       "    }\n",
       "\n",
       "    .dataframe thead th {\n",
       "        text-align: right;\n",
       "    }\n",
       "</style>\n",
       "<table border=\"1\" class=\"dataframe\">\n",
       "  <thead>\n",
       "    <tr style=\"text-align: right;\">\n",
       "      <th></th>\n",
       "      <th>songId</th>\n",
       "    </tr>\n",
       "  </thead>\n",
       "  <tbody>\n",
       "    <tr>\n",
       "      <th>4144</th>\n",
       "      <td>35595137</td>\n",
       "    </tr>\n",
       "    <tr>\n",
       "      <th>3822</th>\n",
       "      <td>36034936</td>\n",
       "    </tr>\n",
       "    <tr>\n",
       "      <th>6100</th>\n",
       "      <td>30500281</td>\n",
       "    </tr>\n",
       "    <tr>\n",
       "      <th>3118</th>\n",
       "      <td>3815739</td>\n",
       "    </tr>\n",
       "    <tr>\n",
       "      <th>3511</th>\n",
       "      <td>35546497</td>\n",
       "    </tr>\n",
       "  </tbody>\n",
       "</table>\n",
       "</div>"
      ],
      "text/plain": [
       "        songId\n",
       "4144  35595137\n",
       "3822  36034936\n",
       "6100  30500281\n",
       "3118   3815739\n",
       "3511  35546497"
      ]
     },
     "execution_count": 13,
     "metadata": {},
     "output_type": "execute_result"
    }
   ],
   "source": [
    "a = get_recommendation('32720013', cosine_sim).to_frame()\n",
    "a.head()"
   ]
  },
  {
   "cell_type": "code",
   "execution_count": 14,
   "metadata": {},
   "outputs": [
    {
     "data": {
      "text/plain": [
       "4144    0.595280\n",
       "3822    0.449026\n",
       "6100    0.328255\n",
       "3118    0.320006\n",
       "3511    0.316327\n",
       "4040    0.290627\n",
       "3816    0.287135\n",
       "4414    0.283626\n",
       "3503    0.277437\n",
       "4773    0.260115\n",
       "dtype: float64"
      ]
     },
     "execution_count": 14,
     "metadata": {},
     "output_type": "execute_result"
    }
   ],
   "source": [
    "from sklearn.metrics.pairwise import linear_kernel\n",
    "cosine_sim_total = linear_kernel(total_tv, total_tv)\n",
    "sim_scores = pd.Series(cosine_sim_total[indices['32720013']])\n",
    "sim_scores.sort_values(ascending=False).head(11).tail(10)"
   ]
  },
  {
   "cell_type": "code",
   "execution_count": 15,
   "metadata": {},
   "outputs": [
    {
     "data": {
      "text/plain": [
       "array(['35837631', '35866717', '35879546', ..., '3080890', '2981597',\n",
       "       '34183979'], dtype=object)"
      ]
     },
     "execution_count": 15,
     "metadata": {},
     "output_type": "execute_result"
    }
   ],
   "source": [
    "# 찾고 싶은 구간 정하기\n",
    "numbers = df['comment_like_total']\n",
    "sorted_numbers = np.sort(numbers)\n",
    "q1 = np.percentile(sorted_numbers, 25)\n",
    "q2 = np.percentile(sorted_numbers, 50)\n",
    "filtered_data = df[(df['comment_like_total'] >= q1) & (df['comment_like_total'] < q2)]\n",
    "filtered_data = filtered_data[['songId', 'comment_like_total']]\n",
    "filtered_data.songId.values"
   ]
  },
  {
   "cell_type": "code",
   "execution_count": 16,
   "metadata": {},
   "outputs": [
    {
     "data": {
      "text/html": [
       "<div>\n",
       "<style scoped>\n",
       "    .dataframe tbody tr th:only-of-type {\n",
       "        vertical-align: middle;\n",
       "    }\n",
       "\n",
       "    .dataframe tbody tr th {\n",
       "        vertical-align: top;\n",
       "    }\n",
       "\n",
       "    .dataframe thead th {\n",
       "        text-align: right;\n",
       "    }\n",
       "</style>\n",
       "<table border=\"1\" class=\"dataframe\">\n",
       "  <thead>\n",
       "    <tr style=\"text-align: right;\">\n",
       "      <th></th>\n",
       "      <th>songId</th>\n",
       "    </tr>\n",
       "  </thead>\n",
       "  <tbody>\n",
       "    <tr>\n",
       "      <th>6100</th>\n",
       "      <td>30500281</td>\n",
       "    </tr>\n",
       "    <tr>\n",
       "      <th>4040</th>\n",
       "      <td>35846577</td>\n",
       "    </tr>\n",
       "    <tr>\n",
       "      <th>4414</th>\n",
       "      <td>36342068</td>\n",
       "    </tr>\n",
       "    <tr>\n",
       "      <th>4779</th>\n",
       "      <td>36327988</td>\n",
       "    </tr>\n",
       "    <tr>\n",
       "      <th>4002</th>\n",
       "      <td>36471556</td>\n",
       "    </tr>\n",
       "  </tbody>\n",
       "</table>\n",
       "</div>"
      ],
      "text/plain": [
       "        songId\n",
       "6100  30500281\n",
       "4040  35846577\n",
       "4414  36342068\n",
       "4779  36327988\n",
       "4002  36471556"
      ]
     },
     "execution_count": 16,
     "metadata": {},
     "output_type": "execute_result"
    }
   ],
   "source": [
    "# 유사도 top 30 중 원하는 구간에 있는 songId 추출(유사도순)\n",
    "d = a[a['songId'].isin(filtered_data.songId.values)].head(5)\n",
    "d"
   ]
  },
  {
   "cell_type": "code",
   "execution_count": 17,
   "metadata": {},
   "outputs": [
    {
     "data": {
      "text/plain": [
       "[{'songId': '3815739',\n",
       "  'title': 'Like this',\n",
       "  'artist': '원더걸스',\n",
       "  'genre': '댄스',\n",
       "  'album': 'Wonder Party',\n",
       "  'lyricist': '박진영',\n",
       "  'composer': '박진영',\n",
       "  'date': '20120603',\n",
       "  'img': 'https://cdnimg.melon.co.kr/cm/album/images/021/25/515/2125515_500.jpg/melon/resize/282/quality/80/optimize',\n",
       "  'comment': 55,\n",
       "  'like': 30075,\n",
       "  'lyric': 'Like this yo Like this \\n위 아래로 흔들어 Like this\\nLike this yo Like this \\n몸을 돌려 좌우로 Like this \\nLike this yo Like this \\n파도처럼 내려가 Like this \\nLike this yo Like this \\n다같이 Stop 자 흔들어봐 \\n나른하고 지치고 따분한\\n지친 일상을 벗어나 \\n뭔가 상큼하고 새롭고 신나는 \\n일을 찾고 있다면 \\n나를 어서 따라와 \\n상쾌한 바람이 네게 들어와 \\n너를 깨어나게 해줄게 \\n여기 내 손을 잡아 오우 \\nCome on baby come on\\n귀를 열어봐 \\nFeel it baby feel it\\n어서 느껴봐 \\nGo on baby go on\\n용기를 내봐 \\n1 2 3 자 Ready set go \\nCome on baby come on\\n귀를 열어봐 \\nFeel it baby feel it\\n어서 느껴봐 \\nGo on baby go on\\n용기를 내봐 \\n1 2 3 자 Ready set go \\nLike this yo Like this \\n위 아래로 흔들어 Like this\\nLike this yo Like this \\n몸을 돌려 좌우로 Like this \\nLike this yo Like this \\n파도처럼 내려가 Like this \\nLike this yo Like this \\n다같이 Stop 자 흔들어봐 \\n마음속에 있는 그 무거운 \\n짐을 잠시 내려 놓고 \\n정말 자유롭게 나는 \\n저 새처럼 날아 보고 싶다면 \\n걱정하지마\\n너의 두려운\\n고민을 다 잊게 해줄 \\n음악을 마시게 해줄게 \\n어서 나를 믿어봐 오우 \\nCome on baby come on\\n귀를 열어봐 \\nFeel it baby feel it\\n어서 느껴봐 \\nGo on baby go on\\n용기를 내봐 \\n1 2 3 자 Ready set go \\nCome on baby come on\\n귀를 열어봐 \\nFeel it baby feel it\\n어서 느껴봐 \\nGo on baby go on\\n용기를 내봐 \\n1 2 3 자 Ready set go \\nLike this yo Like this \\n위 아래로 흔들어 Like this \\nLike this yo Like this \\n몸을 돌려 좌우로 Like this \\nLike this yo Like this \\n파도처럼 내려가 Like this \\nLike this yo Like this \\n다같이 Stop 자 흔들어봐 \\n자 오른쪽으로 걸어봐 두발\\n손을 머리 어깨 치고 치고\\n다시 또 왼쪽으로 가 두발\\n발 짚고 일어나 짚고 일어나 \\n오른쪽으로 걸어봐 두발\\n손을 머리 어깨 치고 치고\\n다시 또 왼쪽으로 가 두발\\n발 짚고 일어나 짚고 일어나\\nLike this yo Like this \\n위 아래로 흔들어 Like this\\nLike this yo Like this \\n몸을 돌려 좌우로 Like this\\nLike this yo Like this \\n파도처럼 내려가 Like this\\nLike this yo Like this \\n다같이 Stop 자 흔들어봐',\n",
       "  'plylstSeq': '425182189 421731133',\n",
       "  'comment_like_total': 30130,\n",
       "  'morphs': 'Like this yo Like this 위 아래 흔들다 Like this Like this yo Like this 몸 돌리다 좌우 Like this Like this yo Like this 파도처럼 내려가다 Like this Like this yo Like this 다 같이 Stop 자 흔들다 보다 나른하다 지치다 따분하다 지치다 일상 벗어나다 뭔가 상큼 하고 새 롭고 신나다 찾다 있다 나르다 어서 따라오다 상쾌하다 바람 네 들어오다 너 깨어나다 해주다 여기 손 잡다 오우 Come on baby come on 귀 열다 보다 Feel it baby feel it 어서 느끼다 보다 Go on baby go on 용기 보다 1 2 3 자 Ready set go Come on baby come on 귀 열다 보다 Feel it baby feel it 어서 느끼다 보다 Go on baby go on 용기 보다 1 2 3 자 Ready set go Like this yo Like this 위 아래 흔들다 Like this Like this yo Like this 몸 돌리다 좌우 Like this Like this yo Like this 파도처럼 내려가다 Like this Like this yo Like this 다 같이 Stop 자 흔들다 보다 마음속 있다 무겁다 짐 잠시 내다 놓다 정말 자유롭다 저 새 처럼 날 아 보고 싶다 걱정 하다 너 두렵다 고민 다 잊다 해주다 음악 말다 해주다 어서 나르다 믿다 보다 오우 Come on baby come on 귀 열다 보다 Feel it baby feel it 어서 느끼다 보다 Go on baby go on 용기 보다 1 2 3 자 Ready set go Come on baby come on 귀 열다 보다 Feel it baby feel it 어서 느끼다 보다 Go on baby go on 용기 보다 1 2 3 자 Ready set go Like this yo Like this 위 아래 흔들다 Like this Like this yo Like this 몸 돌리다 좌우 Like this Like this yo Like this 파도처럼 내려가다 Like this Like this yo Like this 다 같이 Stop 자 흔들다 보다 자 오른쪽 으로 걸다 보다 두발 손 머리 어깨 치고 치고 왼쪽 으로 가다 두발 발 짚다 일어나다 짚다 일어나다 오른쪽 으로 걸다 보다 두발 손 머리 어깨 치고 치고 왼쪽 으로 가다 두발 발 짚다 일어나다 짚다 일어나다 Like this yo Like this 위 아래 흔들다 Like this Like this yo Like this 몸 돌리다 좌우 Like this Like this yo Like this 파도처럼 내려가다 Like this Like this yo Like this 다 같이 Stop 자 흔들다 보다',\n",
       "  'total': 'Like this yo Like this 위 아래 흔들다 Like this Like this yo Like this 몸 돌리다 좌우 Like this Like this yo Like this 파도처럼 내려가다 Like this Like this yo Like this 다 같이 Stop 자 흔들다 보다 나른하다 지치다 따분하다 지치다 일상 벗어나다 뭔가 상큼 하고 새 롭고 신나다 찾다 있다 나르다 어서 따라오다 상쾌하다 바람 네 들어오다 너 깨어나다 해주다 여기 손 잡다 오우 Come on baby come on 귀 열다 보다 Feel it baby feel it 어서 느끼다 보다 Go on baby go on 용기 보다 1 2 3 자 Ready set go Come on baby come on 귀 열다 보다 Feel it baby feel it 어서 느끼다 보다 Go on baby go on 용기 보다 1 2 3 자 Ready set go Like this yo Like this 위 아래 흔들다 Like this Like this yo Like this 몸 돌리다 좌우 Like this Like this yo Like this 파도처럼 내려가다 Like this Like this yo Like this 다 같이 Stop 자 흔들다 보다 마음속 있다 무겁다 짐 잠시 내다 놓다 정말 자유롭다 저 새 처럼 날 아 보고 싶다 걱정 하다 너 두렵다 고민 다 잊다 해주다 음악 말다 해주다 어서 나르다 믿다 보다 오우 Come on baby come on 귀 열다 보다 Feel it baby feel it 어서 느끼다 보다 Go on baby go on 용기 보다 1 2 3 자 Ready set go Come on baby come on 귀 열다 보다 Feel it baby feel it 어서 느끼다 보다 Go on baby go on 용기 보다 1 2 3 자 Ready set go Like this yo Like this 위 아래 흔들다 Like this Like this yo Like this 몸 돌리다 좌우 Like this Like this yo Like this 파도처럼 내려가다 Like this Like this yo Like this 다 같이 Stop 자 흔들다 보다 자 오른쪽 으로 걸다 보다 두발 손 머리 어깨 치고 치고 왼쪽 으로 가다 두발 발 짚다 일어나다 짚다 일어나다 오른쪽 으로 걸다 보다 두발 손 머리 어깨 치고 치고 왼쪽 으로 가다 두발 발 짚다 일어나다 짚다 일어나다 Like this yo Like this 위 아래 흔들다 Like this Like this yo Like this 몸 돌리다 좌우 Like this Like this yo Like this 파도처럼 내려가다 Like this Like this yo Like this 다 같이 Stop 자 흔들다 보다 Like this 원더걸스 원더걸스 박진영 박진영 박진영 박진영 댄스 댄스 댄스'},\n",
       " {'songId': '35546497',\n",
       "  'title': 'After LIKE',\n",
       "  'artist': 'IVE (아이브)',\n",
       "  'genre': '댄스',\n",
       "  'album': 'After LIKE',\n",
       "  'lyricist': '서지음',\n",
       "  'composer': 'RYAN JHUN',\n",
       "  'date': '20220822',\n",
       "  'img': 'https://cdnimg.melon.co.kr/cm2/album/images/110/34/298/11034298_20220822101843_500.jpg?d34a229786bda1750cf7718abdc6b869/melon/resize/282/quality/80/optimize',\n",
       "  'comment': 3557,\n",
       "  'like': 228833,\n",
       "  'lyric': \"또 모르지 내 마음이\\n저 날씨처럼 바뀔지\\n날 나조차 다 알 수 없으니\\n그게 뭐가 중요하니\\n지금 네게 완전히\\n푹 빠졌단 게 중요한 거지\\n아마 꿈만 같겠지만\\n분명 꿈이 아니야\\n달리 설명할 수 없는\\n이건 사랑일 거야\\n방금 내가 말한 감정\\n감히 의심하지 마\\n그냥 좋다는 게 아냐\\nWhat's after 'LIKE'?\\nYou and I\\nIt's more than 'LIKE'\\nL 다음 또 O 다음 난 yeah\\nYou and I\\nIt's more than 'LIKE'\\nWhat's after 'LIKE'?\\nWhat's after 'LIKE'?\\n조심해 두 심장에 핀\\n새파란 이 불꽃이\\n저 태양보다 뜨거울 테니\\n난 저 위로 또 아래로\\n내 그래프는 폭이 커\\nYeah that's me\\n두 번 세 번 피곤하게\\n자꾸 질문하지 마\\n내 장점이 뭔지 알아?\\n바로 솔직한 거야\\n방금 내가 말한 감정\\n감히 의심하지 마\\n그냥 좋다는 게 아냐\\nWhat's after 'LIKE'?\\nYou and I\\nIt's more than 'LIKE'\\nL 다음 또 O 다음 난 yeah\\nYou and I\\nIt's more than 'LIKE'\\nWhat's after 'LIKE'?\\nWhat's after 'LIKE'?\\nWhat after like 내 맘에 strike\\n지금 느낀 짜릿함은 마치 tike\\nLO 다음에 I 그 다음에 VE\\n여긴 너와 내 space\\n아무도 막지 못해\\n나를 보면 눈 깜빡할\\n시간 조차도 아까울 걸\\n드디어 만나 반가워\\nLOVE 사이 놓일 I\\n(What's after 'LIKE'?)\\nYou and I\\nIt's more than 'LIKE'\\nE 앞 또 V 앞 난 yeah\\nYou and I\\nIt's more than 'LIKE'\\nWhat's after 'LIKE'?\\nYou and I\\nIt's more than 'LIKE'\\nL 다음 또 O 다음 난 yeah\\nYou and I\\nIt's more than 'LIKE'\\nWhat's after 'LIKE'?\\nWhat's after 'LIKE'?\",\n",
       "  'plylstSeq': '478102836 411111859',\n",
       "  'comment_like_total': 232390,\n",
       "  'morphs': \"모르다 마음 저 날씨 처럼 바뀌다 날 조차 다 없다 그게 뭐 중요하다 네 완전하다 푹 빠지다 중요하다 거지 아마 꿈 만 같다 분명 꿈 아니다 달리 설명 하다 없다 이건 사랑 거야 방금 감정 감히 의심 하다 마 그냥 좋다 알다 What ' s after ' LIKE '? You and I It ' s more than ' LIKE ' L 다음 O 다음 난 yeah You and I It ' s more than ' LIKE ' What ' s after ' LIKE '? What ' s after ' LIKE '? 조심하다 심장 핀 새 파란 불꽃 저 태양 보다 뜨겁다 테 난 저 위로 아래 그래프 폭 크다 Yeah that ' s me 세 피곤하다 자꾸 질문 하다 마 장점 뭔 아 ? 바로 솔직하다 거야 방금 감정 감히 의심 하다 마 그냥 좋다 알다 What ' s after ' LIKE '? You and I It ' s more than ' LIKE ' L 다음 O 다음 난 yeah You and I It ' s more than ' LIKE ' What ' s after ' LIKE '? What ' s after ' LIKE '? What after like 맘 strike 느끼다 짜릿하다 마치 tike LO 다음 I 다음 VE 여기다 너 와 space 아무 막다 못 하다 나르다 보다 눈 깜빡 하다 조차도 아깝다 걸 드디어 만나다 반갑다 LOVE 사이 놓이다 I ( What ' s after ' LIKE '?) You and I It ' s more than ' LIKE ' E V 난 yeah You and I It ' s more than ' LIKE ' What ' s after ' LIKE '? You and I It ' s more than ' LIKE ' L 다음 O 다음 난 yeah You and I It ' s more than ' LIKE ' What ' s after ' LIKE '? What ' s after ' LIKE '?\",\n",
       "  'total': \"모르다 마음 저 날씨 처럼 바뀌다 날 조차 다 없다 그게 뭐 중요하다 네 완전하다 푹 빠지다 중요하다 거지 아마 꿈 만 같다 분명 꿈 아니다 달리 설명 하다 없다 이건 사랑 거야 방금 감정 감히 의심 하다 마 그냥 좋다 알다 What ' s after ' LIKE '? You and I It ' s more than ' LIKE ' L 다음 O 다음 난 yeah You and I It ' s more than ' LIKE ' What ' s after ' LIKE '? What ' s after ' LIKE '? 조심하다 심장 핀 새 파란 불꽃 저 태양 보다 뜨겁다 테 난 저 위로 아래 그래프 폭 크다 Yeah that ' s me 세 피곤하다 자꾸 질문 하다 마 장점 뭔 아 ? 바로 솔직하다 거야 방금 감정 감히 의심 하다 마 그냥 좋다 알다 What ' s after ' LIKE '? You and I It ' s more than ' LIKE ' L 다음 O 다음 난 yeah You and I It ' s more than ' LIKE ' What ' s after ' LIKE '? What ' s after ' LIKE '? What after like 맘 strike 느끼다 짜릿하다 마치 tike LO 다음 I 다음 VE 여기다 너 와 space 아무 막다 못 하다 나르다 보다 눈 깜빡 하다 조차도 아깝다 걸 드디어 만나다 반갑다 LOVE 사이 놓이다 I ( What ' s after ' LIKE '?) You and I It ' s more than ' LIKE ' E V 난 yeah You and I It ' s more than ' LIKE ' What ' s after ' LIKE '? You and I It ' s more than ' LIKE ' L 다음 O 다음 난 yeah You and I It ' s more than ' LIKE ' What ' s after ' LIKE '? What ' s after ' LIKE '? After LIKE IVE (아이브) IVE (아이브) RYAN JHUN RYAN JHUN 서지음 서지음 댄스 댄스 댄스\"},\n",
       " {'songId': '36034936',\n",
       "  'title': 'VIBE (feat. Jimin of BTS)',\n",
       "  'artist': '태양',\n",
       "  'genre': '댄스',\n",
       "  'album': 'VIBE (feat. Jimin of BTS)',\n",
       "  'lyricist': '태양',\n",
       "  'composer': 'Vince',\n",
       "  'date': '20230113',\n",
       "  'img': 'https://cdnimg.melon.co.kr/cm2/album/images/111/46/937/11146937_20230112154123_500.jpg?190bfacdd68b01c77101445ff4c20492/melon/resize/282/quality/80/optimize',\n",
       "  'comment': 1769,\n",
       "  'like': 96808,\n",
       "  'lyric': '말론 표현할 수 없지만\\nGirl, You gotta know\\nyou got that vibe\\n네 미소는 Fine Art\\n내 영혼을 깨워\\nYou got me feelin’ so right yeah\\nIt’s a vibe\\nYeah eh\\nThis gon’ be the one\\nand only theme song\\n너에게만 고정된 내 시선\\n내겐 너란 하나뿐인 Mission\\n불가능은 없어\\nBaby lights camera action\\n나란 음악 위에 너는 Topline\\n너란 도시 위에 나는 Skyline\\n넌 내 영화 속에 Highlight\\n어두운 밤하늘 끝에 Twilight\\nJust gets better\\n너를 처음부터 정주행하고 싶은 매력\\nYou don’t know I want your love\\n(know I want your love)\\n이 밤이 끝나기 전에 Baby\\nYou know we got that vibe baby\\n(해 뜰 때까지)\\nLook at me, look at me,\\n느낌이 나지\\nLook at me, look at me,\\n느낌이 나지\\nYou know we got that vibe baby\\n(해 질 때까지)\\nLook at you, look at you,\\n느낌이 나지\\n느낌이 와 It’s a vibe\\nThis gon’ be the one\\nand only Anthem\\n감각적이야 Sixth sense 반전\\n짜릿해 손만 잡아도 감전\\n너를 만나기 전까지 내 세상은 암전\\n나란 무대 위에 너는 Spotlight\\n너란 한강 위에 나는 남산\\n더 완벽할 순 없잖아\\n어두운 밤하늘 끝에 Twilight\\nI could feel it\\n너란 공간에 갇혀버렸어\\nYou’re my Matrix\\nYou don’t know I want your love\\n(know I want your love)\\n이 밤이 끝나기 전에 Baby\\nYou know we got that vibe baby\\n(해 뜰 때까지)\\nLook at me, look at me,\\n느낌이 나지\\nLook at me, look at me,\\n느낌이 나지\\nYou know we got that vibe baby\\n(해 질 때까지)\\nLook at you, look at you,\\n느낌이 나지\\n느낌이 와 It’s a vibe\\nLook at the stars\\n밝게 빛나는 달\\nAll through the night\\n우릴 비춰주고 있잖아\\n날 보는 너의 눈빛과\\n진동을 계속 느끼고 싶어\\n(You gotta know you got that vibe)\\nYou know we got that vibe baby\\n(해 뜰 때까지)\\nLook at me, look at me,\\n느낌이 나지\\nYou know we got that vibe baby\\n(해 질 때까지)\\nLook at you, look at you,\\n느낌이 나지\\n느낌이 와 It’s a vibe',\n",
       "  'plylstSeq': '478102836 458920936',\n",
       "  'comment_like_total': 98577,\n",
       "  'morphs': '말론 표현 하다 없다 Girl , You gotta know you got that vibe 네 미소 Fine Art 영혼 깨우다 You got me feelin ’ so right yeah It ’ s a vibe Yeah eh This gon ’ be the one and only theme song 너 에게만 고정 되다 시선 내겐 너 란 뿐 인 Mission 불가능 없다 Baby lights camera action 나다 음악 위 너 Topline 너 란 도시 위 Skyline 넌 영화 Highlight 어 두운 밤하늘 끝 Twilight Just gets better 너 처음 부터 정 주행 하고 싶다 매력 You don ’ t know I want your love ( know I want your love ) 밤 끝나다 Baby You know we got that vibe baby ( 해 뜰 까지 ) Look at me , look at me , 느낌 나다 Look at me , look at me , 느낌 나다 You know we got that vibe baby ( 해 질 까지 ) Look at you , look at you , 느낌 나다 느낌 오다 It ’ s a vibe This gon ’ be the one and only Anthem 감각 이야 Sixth sense 반전 짜릿하다 손 만 잡다 감전 너 만나다 까지 세상 암 나다 무대 위 너 Spotlight 너 란 한강 위 남산 완벽하다 순 없다 어 두운 밤하늘 끝 Twilight I could feel it 너 란 공간 갇히다 버리다 You ’ re my Matrix You don ’ t know I want your love ( know I want your love ) 밤 끝나다 Baby You know we got that vibe baby ( 해 뜰 까지 ) Look at me , look at me , 느낌 나다 Look at me , look at me , 느낌 나다 You know we got that vibe baby ( 해 질 까지 ) Look at you , look at you , 느낌 나다 느낌 오다 It ’ s a vibe Look at the stars 밝다 빛나다 달 All through the night 우릴 비추다 있다 날 보다 너 눈빛 진동 계속 느끼다 싶다 ( You gotta know you got that vibe ) You know we got that vibe baby ( 해 뜰 까지 ) Look at me , look at me , 느낌 나다 You know we got that vibe baby ( 해 질 까지 ) Look at you , look at you , 느낌 나다 느낌 오다 It ’ s a vibe',\n",
       "  'total': '말론 표현 하다 없다 Girl , You gotta know you got that vibe 네 미소 Fine Art 영혼 깨우다 You got me feelin ’ so right yeah It ’ s a vibe Yeah eh This gon ’ be the one and only theme song 너 에게만 고정 되다 시선 내겐 너 란 뿐 인 Mission 불가능 없다 Baby lights camera action 나다 음악 위 너 Topline 너 란 도시 위 Skyline 넌 영화 Highlight 어 두운 밤하늘 끝 Twilight Just gets better 너 처음 부터 정 주행 하고 싶다 매력 You don ’ t know I want your love ( know I want your love ) 밤 끝나다 Baby You know we got that vibe baby ( 해 뜰 까지 ) Look at me , look at me , 느낌 나다 Look at me , look at me , 느낌 나다 You know we got that vibe baby ( 해 질 까지 ) Look at you , look at you , 느낌 나다 느낌 오다 It ’ s a vibe This gon ’ be the one and only Anthem 감각 이야 Sixth sense 반전 짜릿하다 손 만 잡다 감전 너 만나다 까지 세상 암 나다 무대 위 너 Spotlight 너 란 한강 위 남산 완벽하다 순 없다 어 두운 밤하늘 끝 Twilight I could feel it 너 란 공간 갇히다 버리다 You ’ re my Matrix You don ’ t know I want your love ( know I want your love ) 밤 끝나다 Baby You know we got that vibe baby ( 해 뜰 까지 ) Look at me , look at me , 느낌 나다 Look at me , look at me , 느낌 나다 You know we got that vibe baby ( 해 질 까지 ) Look at you , look at you , 느낌 나다 느낌 오다 It ’ s a vibe Look at the stars 밝다 빛나다 달 All through the night 우릴 비추다 있다 날 보다 너 눈빛 진동 계속 느끼다 싶다 ( You gotta know you got that vibe ) You know we got that vibe baby ( 해 뜰 까지 ) Look at me , look at me , 느낌 나다 You know we got that vibe baby ( 해 질 까지 ) Look at you , look at you , 느낌 나다 느낌 오다 It ’ s a vibe VIBE (feat. Jimin of BTS) 태양 태양 Vince Vince 태양 태양 댄스 댄스 댄스'},\n",
       " {'songId': '35595137',\n",
       "  'title': 'LAW (Prod. Czaer)',\n",
       "  'artist': '윤미래',\n",
       "  'genre': '랩/힙합',\n",
       "  'album': '스트릿 맨 파이터(SMF) Original Vol.3 (계급미션)',\n",
       "  'lyricist': '윤미래',\n",
       "  'composer': '비비 (BIBI)',\n",
       "  'date': '20220906',\n",
       "  'img': 'https://cdnimg.melon.co.kr/cm2/album/images/110/45/985/11045985_20220905151107_500.jpg?0b94bb1efdeeb5fd7a1c6371ebe0746e/melon/resize/282/quality/80/optimize',\n",
       "  'comment': 220,\n",
       "  'like': 44328,\n",
       "  'lyric': 'look at my lips\\nlook at my hips\\nlook at me slaying\\nthis whole world\\nlook at me kissin\\nlook at me kickin\\n이건 바로 사랑과전쟁\\nlook at my lips\\nlook at my hips\\nlook at me slaying\\nthis whole world\\nlook at me kissin\\nlook at me kickin\\n우린 바로 전사 hear me roar\\n맘을 열어라\\n고개를 들어라\\n몸을 데워라\\n가서 조져라\\nimma break it down\\nlike only i can do\\nbishes talk sht\\nbut they never come thru\\nwhen i come thru\\nbest believe it’s over\\nwanna be around me\\nbut they get the cold shoulder\\ndon’t make me say it\\ncuz i already told ya\\ni’m the baddest chick\\ni done already showed ya\\nOn my way to the top\\nmad cuz you not\\nmy song in the number 1 spot\\nwho’s hot\\n니가 뭘 알어\\n니가 뭐를 알어\\n내가 움직이기 시작하면\\n전부 입 닫어\\n다시 벌어지게 될거니까\\n니 눈 코입 어깨 발 무릎 발\\nlook at my lips\\nlook at my hips\\nlook at me slaying\\nthis whole world\\nlook at me kissin\\nlook at me kickin\\n이건 바로 사랑과전쟁\\nlook at my lips\\nlook at my hips\\nlook at me slaying\\nthis whole world\\nlook at me kissin\\nlook at me kickin\\n이건 바로 사랑과전쟁\\n맘을 열어라\\n고개를 들어라\\n몸을 데워라\\n가서 조져라\\n나 운율의 시라소니 마누라\\n관자놀이 를 밝히는 아우라\\n허리 밑에 손들은 잿가루가 될 테니\\n위로 들어 흔들어 다 나와 놀아\\n다같이 나눠 가져 지금의 짜릿함\\n모두가 하나되는 아릿다움 ( ) 담\\n자 이제부터 미래가 시작된 다음\\n펼쳐져 갇혀 있던 너의 속마음\\n니가 뭘 알어\\n니가 뭐를 알어\\n내가 움직이기 시작하면\\n전부 입닫어\\n다시 벌어지게 될거니까\\n니 눈 코입 어깨 발 무릎 발\\nlook at my lips\\nlook at my hips\\nlook at me slaying\\nthis whole world\\nlook at me kissin\\nlook at me kickin\\n이건 바로 사랑과전쟁\\nlook at my lips\\nlook at my hips\\nlook at me slaying\\nthis whole world\\nlook at me kissin\\nlook at me kickin\\n우린 바로 전사 hear me roar\\ni dropin it i killin it\\n모르면 외워\\ngotta get crazy\\ngotta get hazy\\ndrum and bass를 채워\\n생각따위 집어쳐\\n니 몸이 가는대로 move it\\n내 step by step\\n세상을 움직이는 매직\\nbreak it down like\\non your mark\\nget ready\\ngo\\nlook at my lips\\nlook at my hips\\nlook at me slaying\\nthis whole world\\nlook at me kissin\\nlook at me kickin\\n이건 바로 사랑과전쟁\\nlook at my lips\\nlook at my hips\\nlook at me slaying\\nthis whole world\\nlook at me kissin\\nlook at me kickin\\n우린 바로 전사 hear me roar\\n맘을 열어라\\n고개를 들어라\\n몸을 데워라\\n가서 조져라',\n",
       "  'plylstSeq': '458920936 510005497',\n",
       "  'comment_like_total': 44548,\n",
       "  'morphs': 'look at my lips look at my hips look at me slaying this whole world look at me kissin look at me kickin 이건 바로 사랑과전쟁 look at my lips look at my hips look at me slaying this whole world look at me kissin look at me kickin 우린 바로 전사 hear me roar 맘 열다 고개 들다 몸 데우다 가다 좋다 imma break it down like only i can do bishes talk sht but they never come thru when i come thru best believe it ’ s over wanna be around me but they get the cold shoulder don ’ t make me say it cuz i already told ya i ’ m the baddest chick i done already showed ya On my way to the top mad cuz you not my song in the number 1 spot who ’ s hot 뭘 알다 뭐 알다 움직이다 시작 하다 전부 입 닫다 벌어지다 되다 눈 코입 어깨 발 무릎 발 look at my lips look at my hips look at me slaying this whole world look at me kissin look at me kickin 이건 바로 사랑과전쟁 look at my lips look at my hips look at me slaying this whole world look at me kissin look at me kickin 이건 바로 사랑과전쟁 맘 열다 고개 들다 몸 데우다 가다 좋다 운율 시라소니 마누라 관자놀이 밝히다 아우라 허리 밑 손 잿가루 되다 테 위로 들다 흔들다 다 나오다 놀다 다 같이 나누다 가다 짜릿하다 모두 되다 아릿다움 ( ) 담 자 이제 부터 미래 시작 되다 다음 펼쳐지다 갇히다 있다 너 속마음 뭘 알다 뭐 알다 움직이다 시작 하다 전부 입 닫다 벌어지다 되다 눈 코입 어깨 발 무릎 발 look at my lips look at my hips look at me slaying this whole world look at me kissin look at me kickin 이건 바로 사랑과전쟁 look at my lips look at my hips look at me slaying this whole world look at me kissin look at me kickin 우린 바로 전사 hear me roar i dropin it i killin it 모르다 외우다 gotta get crazy gotta get hazy drum and bass 채우다 따위 집다 치다 몸 가다 move it step by step 세상 움직이다 매직 break it down like on your mark get ready go look at my lips look at my hips look at me slaying this whole world look at me kissin look at me kickin 이건 바로 사랑과전쟁 look at my lips look at my hips look at me slaying this whole world look at me kissin look at me kickin 우린 바로 전사 hear me roar 맘 열다 고개 들다 몸 데우다 가다 좋다',\n",
       "  'total': 'look at my lips look at my hips look at me slaying this whole world look at me kissin look at me kickin 이건 바로 사랑과전쟁 look at my lips look at my hips look at me slaying this whole world look at me kissin look at me kickin 우린 바로 전사 hear me roar 맘 열다 고개 들다 몸 데우다 가다 좋다 imma break it down like only i can do bishes talk sht but they never come thru when i come thru best believe it ’ s over wanna be around me but they get the cold shoulder don ’ t make me say it cuz i already told ya i ’ m the baddest chick i done already showed ya On my way to the top mad cuz you not my song in the number 1 spot who ’ s hot 뭘 알다 뭐 알다 움직이다 시작 하다 전부 입 닫다 벌어지다 되다 눈 코입 어깨 발 무릎 발 look at my lips look at my hips look at me slaying this whole world look at me kissin look at me kickin 이건 바로 사랑과전쟁 look at my lips look at my hips look at me slaying this whole world look at me kissin look at me kickin 이건 바로 사랑과전쟁 맘 열다 고개 들다 몸 데우다 가다 좋다 운율 시라소니 마누라 관자놀이 밝히다 아우라 허리 밑 손 잿가루 되다 테 위로 들다 흔들다 다 나오다 놀다 다 같이 나누다 가다 짜릿하다 모두 되다 아릿다움 ( ) 담 자 이제 부터 미래 시작 되다 다음 펼쳐지다 갇히다 있다 너 속마음 뭘 알다 뭐 알다 움직이다 시작 하다 전부 입 닫다 벌어지다 되다 눈 코입 어깨 발 무릎 발 look at my lips look at my hips look at me slaying this whole world look at me kissin look at me kickin 이건 바로 사랑과전쟁 look at my lips look at my hips look at me slaying this whole world look at me kissin look at me kickin 우린 바로 전사 hear me roar i dropin it i killin it 모르다 외우다 gotta get crazy gotta get hazy drum and bass 채우다 따위 집다 치다 몸 가다 move it step by step 세상 움직이다 매직 break it down like on your mark get ready go look at my lips look at my hips look at me slaying this whole world look at me kissin look at me kickin 이건 바로 사랑과전쟁 look at my lips look at my hips look at me slaying this whole world look at me kissin look at me kickin 우린 바로 전사 hear me roar 맘 열다 고개 들다 몸 데우다 가다 좋다 LAW (Prod. Czaer) 윤미래 윤미래 비비 (BIBI) 비비 (BIBI) 윤미래 윤미래 랩/힙합 랩/힙합 랩/힙합'},\n",
       " {'songId': '30500281',\n",
       "  'title': '좋아, 고마워 (맥심 화이트골드 - 김연아편 CF 삽입곡)',\n",
       "  'artist': '공기남',\n",
       "  'genre': '인디음악 포크/블루스',\n",
       "  'album': '달콤데이#2 좋아, 고마워',\n",
       "  'lyricist': '공기남',\n",
       "  'composer': '공기남',\n",
       "  'date': '20170630',\n",
       "  'img': 'https://cdnimg.melon.co.kr/cm/album/images/100/75/685/10075685_500.jpg?6b2a25bf537ba2667e1ccb93f015d0b4/melon/resize/282/quality/80/optimize',\n",
       "  'comment': 23,\n",
       "  'like': 11824,\n",
       "  'lyric': \"꽃잎이 바람을 타고 흩날리고 있어요\\n향기로운 꽃 냄새가 \\n나를 설레이게 하죠\\n따사로운 햇살이 환하게 나를 비추니\\n이유 없이 마냥 좋아 고마워\\n우연히 내게 찾아와 \\n날 미소 짓게 해요\\n향긋한 웃음 지으며 \\n내게 찾아와 인사를 하죠\\n그대의 손을 잡고 둘이서 걸으니\\n부끄러운지 내 볼이 빨개지고 있네요\\n설렘이 가득한 지금이 좋아요\\nDon't be shy Don't be shy \\nI like it here\\n설렘이 가득한 이대로 좋아요\\nDon't be shy Don't be shy \\nI like it here\\nYes it is like it like it like it here \\nit is like it like it like it here \\nit is like it like it like it here \\n좋아요\\n꽃가루가 날리는\\n하늘이 오늘따라 너무나 예뻐요\\n꽃 향기로 가득 찬\\n지금 이대로가 나는 나는 너무 좋은데\\n설렘이 가득한 지금이 좋아요\\nDon't be shy Don't be shy \\nI like it here\\n설렘이 가득한 이대로 좋아요\\nDon't be shy Don't be shy \\nI like it here\\nYes it is like it like it like it here \\nit is like it like it like it here \\nit is like it like it like it here \\n좋아요\\nYes it is like it like it like it here \\nit is like it like it like it here \\nit is like it like it like it here \\n꽃 향기로 가득 찬\\n지금 이대로가 나는 나는 너무 좋아요\",\n",
       "  'plylstSeq': '101593291 489567062',\n",
       "  'comment_like_total': 11847,\n",
       "  'morphs': \"꽃잎 바람 타고 흩날리다 있다 향기롭다 꽃 냄새 나르다 설레다 하다 따다 사 로운 햇살 환하다 나르다 비추다 이유 없이 마냥 좋다 고맙다 우연히 내다 찾아오다 날 미소 짓다 해 향 긋다 웃음 지다 내다 찾아오다 인사 하다 그대 손 잡고 둘이서 걸다 부끄럽다 볼 빨갛다 있다 설레다 가득하다 좋다 Don ' t be shy Don ' t be shy I like it here 설레다 가득하다 이대로 좋다 Don ' t be shy Don ' t be shy I like it here Yes it is like it like it like it here it is like it like it like it here it is like it like it like it here 좋다 꽃가루 날리다 하늘 오늘 따르다 너무나 예쁘다 꽃 향기롭다 가득 찬 대로가 너무 좋다 설레다 가득하다 좋다 Don ' t be shy Don ' t be shy I like it here 설레다 가득하다 이대로 좋다 Don ' t be shy Don ' t be shy I like it here Yes it is like it like it like it here it is like it like it like it here it is like it like it like it here 좋다 Yes it is like it like it like it here it is like it like it like it here it is like it like it like it here 꽃 향기롭다 가득 찬 대로가 너무 좋다\",\n",
       "  'total': \"꽃잎 바람 타고 흩날리다 있다 향기롭다 꽃 냄새 나르다 설레다 하다 따다 사 로운 햇살 환하다 나르다 비추다 이유 없이 마냥 좋다 고맙다 우연히 내다 찾아오다 날 미소 짓다 해 향 긋다 웃음 지다 내다 찾아오다 인사 하다 그대 손 잡고 둘이서 걸다 부끄럽다 볼 빨갛다 있다 설레다 가득하다 좋다 Don ' t be shy Don ' t be shy I like it here 설레다 가득하다 이대로 좋다 Don ' t be shy Don ' t be shy I like it here Yes it is like it like it like it here it is like it like it like it here it is like it like it like it here 좋다 꽃가루 날리다 하늘 오늘 따르다 너무나 예쁘다 꽃 향기롭다 가득 찬 대로가 너무 좋다 설레다 가득하다 좋다 Don ' t be shy Don ' t be shy I like it here 설레다 가득하다 이대로 좋다 Don ' t be shy Don ' t be shy I like it here Yes it is like it like it like it here it is like it like it like it here it is like it like it like it here 좋다 Yes it is like it like it like it here it is like it like it like it here it is like it like it like it here 꽃 향기롭다 가득 찬 대로가 너무 좋다 좋아, 고마워 (맥심 화이트골드 - 김연아편 CF 삽입곡) 공기남 공기남 공기남 공기남 공기남 공기남 인디음악 포크/블루스 인디음악 포크/블루스 인디음악 포크/블루스\"}]"
      ]
     },
     "execution_count": 17,
     "metadata": {},
     "output_type": "execute_result"
    }
   ],
   "source": [
    "filtered_df = df[df['songId'].isin(a.songId.values[:5])].to_dict('records')\n",
    "filtered_df"
   ]
  },
  {
   "cell_type": "code",
   "execution_count": null,
   "metadata": {},
   "outputs": [],
   "source": []
  }
 ],
 "metadata": {
  "kernelspec": {
   "display_name": "base",
   "language": "python",
   "name": "python3"
  },
  "language_info": {
   "codemirror_mode": {
    "name": "ipython",
    "version": 3
   },
   "file_extension": ".py",
   "mimetype": "text/x-python",
   "name": "python",
   "nbconvert_exporter": "python",
   "pygments_lexer": "ipython3",
   "version": "3.10.10"
  },
  "orig_nbformat": 4
 },
 "nbformat": 4,
 "nbformat_minor": 2
}
