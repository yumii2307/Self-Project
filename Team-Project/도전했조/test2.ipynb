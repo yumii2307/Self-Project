{
 "cells": [
  {
   "cell_type": "code",
   "execution_count": 1,
   "metadata": {},
   "outputs": [],
   "source": [
    "import numpy as np\n",
    "import pandas as pd\n",
    "import time\n",
    "from tqdm import tqdm\n",
    "from bs4 import BeautifulSoup\n",
    "from selenium import webdriver\n",
    "import warnings\n",
    "warnings.filterwarnings('ignore')"
   ]
  },
  {
   "cell_type": "code",
   "execution_count": 2,
   "metadata": {},
   "outputs": [],
   "source": [
    "options = webdriver.ChromeOptions()\n",
    "options.add_argument('--headless')\n",
    "options.add_argument('--no-sandbox')\n",
    "options.add_argument(\"--single-process\")\n",
    "options.add_argument(\"--disable-dev-shm-usage\")\n",
    "driver = webdriver.Chrome('C:/Users/YONSAI/Downloads/chromedriver', options=options)"
   ]
  },
  {
   "cell_type": "code",
   "execution_count": 3,
   "metadata": {},
   "outputs": [
    {
     "name": "stderr",
     "output_type": "stream",
     "text": [
      "100%|██████████| 8/8 [03:00<00:00, 22.62s/it]\n"
     ]
    }
   ],
   "source": [
    "songIds = []\n",
    "base_url = 'https://www.melon.com/genre/song_list.htm?params%5BdtlGnrCode%5D=&params%5BorderBy%5D=POP&params%5BsteadyYn%5D=N&po=pageObj&params%5BdtlGnrCode%5D=params%5BorderBy%5D=POP&params%5BsteadyYn%5D=N&po=pageObj&gnrCode=GN0'\n",
    "genre_url = '#params%5BgnrCode%5D=GN0'\n",
    "index_url = '&startIndex='\n",
    "for i in tqdm(range(100, 801, 100)):\n",
    "    main_url = f'{base_url}{i}{genre_url}{i}&params%5BdtlGnrCode%5D=&params%5BorderBy%5D=POP&params%5BsteadyYn%5D=N&po=pageObj'\n",
    "    for k in range(1, 452, 50):\n",
    "        page_url = f'{main_url}{index_url}{k}'\n",
    "        driver.get(page_url)\n",
    "        time.sleep(2)\n",
    "        soup = BeautifulSoup(driver.page_source, 'html.parser')\n",
    "        trs = soup.select('tbody > tr')\n",
    "        for tr in trs:\n",
    "            if tr.select_one('.bullet_icons.age_19'):\n",
    "                continue\n",
    "            songId = tr.select_one('.btn.button_icons.type03.song_info')['href'].split(\"'\")[-2]\n",
    "            songIds.append(songId)"
   ]
  },
  {
   "cell_type": "code",
   "execution_count": 4,
   "metadata": {},
   "outputs": [
    {
     "data": {
      "text/plain": [
       "3970"
      ]
     },
     "execution_count": 4,
     "metadata": {},
     "output_type": "execute_result"
    }
   ],
   "source": [
    "len(songIds)"
   ]
  },
  {
   "cell_type": "code",
   "execution_count": 5,
   "metadata": {},
   "outputs": [],
   "source": [
    "def nan(data):\n",
    "    if data != '-':\n",
    "        return data\n",
    "    else:\n",
    "        return np.nan"
   ]
  },
  {
   "cell_type": "code",
   "execution_count": 6,
   "metadata": {},
   "outputs": [
    {
     "name": "stderr",
     "output_type": "stream",
     "text": [
      "100%|██████████| 370/370 [15:49<00:00,  2.57s/it]\n"
     ]
    }
   ],
   "source": [
    "infos = []\n",
    "for songId in tqdm(songIds[3600:]):\n",
    "    try:\n",
    "        song_url = f'https://www.melon.com/song/detail.htm?songId={songId}'\n",
    "        driver.get(song_url)\n",
    "        time.sleep(2)\n",
    "        soup = BeautifulSoup(driver.page_source, 'html.parser')\n",
    "        info = soup.select_one('#conts')\n",
    "        songId = info.select_one('#btnLike')['data-song-no']\n",
    "        title = info.select_one('.song_name').get_text().strip().split('\\t')[-1]\n",
    "        artist = info.select_one('.artist_name').get_text()\n",
    "        genre = info.select_one('dl > dd:nth-child(6)').get_text().replace(',', '')\n",
    "        album = info.select_one('.list > dd').get_text()\n",
    "        ul = info.select('.list_person.clfix > li')\n",
    "        lyricist = nan(ul[0].select_one('.artist_name').get_text().strip())\n",
    "        composer = nan(ul[1].select_one('.artist_name').get_text().strip())\n",
    "        date = nan(info.select_one('dl > dd:nth-child(4)').get_text().replace('.',''))\n",
    "        img = info.select_one('.image_typeAll > img')['src']\n",
    "        comment = info.select_one('#revCnt').get_text().replace('개', '').replace(',', '')\n",
    "        like = info.select_one('#d_like_count').get_text().replace(',', '')\n",
    "        lyric = str(info.select_one('#d_video_summary')).split('\\n')[-2].replace('\\t', '').replace('<br/>', '\\n').replace('\\n\\n', '\\n').strip()\n",
    "        buttons = info.select('.d_djcol_list > ul > li > .thumb > a ')\n",
    "        plylstSeq = nan(' '.join([button['href'].split(',\\'')[-1][:-3] for button in buttons]))\n",
    "        infos.append({'songId': songId, 'title': title, 'artist': artist, 'genre':genre,\n",
    "                    'album': album, 'lyricist': lyricist, 'composer': composer, 'date':date, 'img': img,\n",
    "                    'comment': comment, 'like': like, 'lyric': lyric, 'plylstSeq': plylstSeq})\n",
    "    except:\n",
    "        continue"
   ]
  },
  {
   "cell_type": "code",
   "execution_count": 7,
   "metadata": {},
   "outputs": [
    {
     "data": {
      "text/plain": [
       "360"
      ]
     },
     "execution_count": 7,
     "metadata": {},
     "output_type": "execute_result"
    }
   ],
   "source": [
    "df = pd.DataFrame(infos)\n",
    "df.shape[0]"
   ]
  },
  {
   "cell_type": "code",
   "execution_count": 8,
   "metadata": {},
   "outputs": [
    {
     "data": {
      "text/plain": [
       "songId       0\n",
       "title        0\n",
       "artist       0\n",
       "genre        0\n",
       "album        0\n",
       "lyricist     0\n",
       "composer     0\n",
       "date         0\n",
       "img          0\n",
       "comment      0\n",
       "like         0\n",
       "lyric        0\n",
       "plylstSeq    0\n",
       "dtype: int64"
      ]
     },
     "execution_count": 8,
     "metadata": {},
     "output_type": "execute_result"
    }
   ],
   "source": [
    "df.isna().sum()"
   ]
  },
  {
   "cell_type": "code",
   "execution_count": 9,
   "metadata": {},
   "outputs": [],
   "source": [
    "df.to_csv('data/melon_genre13.csv', index=False)"
   ]
  },
  {
   "cell_type": "code",
   "execution_count": 10,
   "metadata": {},
   "outputs": [],
   "source": [
    "# 모든 csv 파일 합치기\n",
    "g1 = pd.read_csv('data/melon_genre1.csv')\n",
    "g2 = pd.read_csv('data/melon_genre2.csv')\n",
    "g3 = pd.read_csv('data/melon_genre3.csv')\n",
    "g4 = pd.read_csv('data/melon_genre4.csv')\n",
    "g5 = pd.read_csv('data/melon_genre5.csv')\n",
    "g6 = pd.read_csv('data/melon_genre6.csv')\n",
    "g7 = pd.read_csv('data/melon_genre7.csv')\n",
    "g8 = pd.read_csv('data/melon_genre8.csv')\n",
    "g9 = pd.read_csv('data/melon_genre9.csv')\n",
    "g10 = pd.read_csv('data/melon_genre10.csv')\n",
    "g11 = pd.read_csv('data/melon_genre11.csv')\n",
    "g12 = pd.read_csv('data/melon_genre12.csv')\n",
    "g13 = pd.read_csv('data/melon_genre13.csv')"
   ]
  },
  {
   "cell_type": "code",
   "execution_count": 18,
   "metadata": {},
   "outputs": [],
   "source": [
    "r1 = pd.concat([g1, g2], axis=0)\n",
    "r2 = pd.concat([g3, g4], axis=0)\n",
    "r3 = pd.concat([g5, g6], axis=0)\n",
    "r4 = pd.concat([g7, g8], axis=0)\n",
    "r5 = pd.concat([g9, g10], axis=0)\n",
    "r6 = pd.concat([g11, g12], axis=0)"
   ]
  },
  {
   "cell_type": "code",
   "execution_count": 19,
   "metadata": {},
   "outputs": [],
   "source": [
    "s1 = pd.concat([r1, r2], axis=0)\n",
    "s2 = pd.concat([r3, r4], axis=0)\n",
    "s3 = pd.concat([r5, r6], axis=0)"
   ]
  },
  {
   "cell_type": "code",
   "execution_count": 20,
   "metadata": {},
   "outputs": [],
   "source": [
    "l1 = pd.concat([s1, s2], axis=0)\n",
    "l2 = pd.concat([s3, g13], axis=0)"
   ]
  },
  {
   "cell_type": "code",
   "execution_count": 21,
   "metadata": {},
   "outputs": [
    {
     "data": {
      "text/plain": [
       "(     songId         title artist      genre               album lyricist  \\\n",
       " 0  36404853            물론     허각        발라드                  물론      윤사라   \n",
       " 1  36382580      헤어지자 말해요    박재정        발라드            1집 Alone      박재정   \n",
       " 2  36394038  Heaven(2023)    임재현  발라드 국내드라마  시작은 첫키스 OST Part.1      강은경   \n",
       " \n",
       "   composer        date                                                img  \\\n",
       " 0      조영수  20230428.0  https://cdnimg.melon.co.kr/cm2/album/images/11...   \n",
       " 1      박재정  20230420.0  https://cdnimg.melon.co.kr/cm2/album/images/11...   \n",
       " 2      원상우  20230425.0  https://cdnimg.melon.co.kr/cm2/album/images/11...   \n",
       " \n",
       "    comment   like                                              lyric  \\\n",
       " 0      111  25503  가진 게 그리 많진 않아\\n어쩌면 많이 부족할지 몰라\\n가끔 나와 다투기도 하겠지만...   \n",
       " 1      629  34290  헤어지자고 말하려 오늘\\n너에게 가다가 우리 추억 생각해 봤어\\n처음 본 네 얼굴\\...   \n",
       " 2       66  23345  왜 이제 왔나요 더 야윈 그대\\n나만큼 힘들었나요\\n두 번 살게 하네요 그대 내 삶...   \n",
       " \n",
       "              plylstSeq  \n",
       " 0  457624642 457536543  \n",
       " 1  457536543 405075509  \n",
       " 2  457536543 405075509  ,\n",
       "        songId      title  artist         genre                     album  \\\n",
       " 357   2981597     서른 즈음에     김광석        포크/블루스                   김광석 네번째   \n",
       " 358  34183979      인생 한잔     정은지  포크/블루스 국내드라마        술꾼도시여자들 OST Part 2   \n",
       " 359  31191637  6 o'clock  볼빨간사춘기   인디음악 포크/블루스  Red Diary 'Hidden Track'   \n",
       " \n",
       "     lyricist composer        date  \\\n",
       " 357      강승원      강승원  19940625.0   \n",
       " 358     빨간양말     INAN  20211029.0   \n",
       " 359      안지영      안지영  20180717.0   \n",
       " \n",
       "                                                    img  comment   like  \\\n",
       " 357  https://cdnimg.melon.co.kr/cm/album/images/010...       13   5497   \n",
       " 358  https://cdnimg.melon.co.kr/cm2/album/images/10...       12   4512   \n",
       " 359  https://cdnimg.melon.co.kr/cm/album/images/101...       87  15668   \n",
       " \n",
       "                                                  lyric            plylstSeq  \n",
       " 357  또 하루 멀어져 간다\\n내뿜은 담배연기처럼\\n작기만한 내 기억속에\\n무얼 채워 살고...  485926496 408723261  \n",
       " 358  사랑도 이별도 오늘은 잠시 미뤄보자\\n불안한 청춘도 내일로 잠시 미뤄두자\\n떠나버린...  506225967 434154554  \n",
       " 359  It's 6 o'clock\\n너와 나는 시간이 빨라서\\n시간이 달라서\\n어쩔 수 없...  458080033 442957041  )"
      ]
     },
     "execution_count": 21,
     "metadata": {},
     "output_type": "execute_result"
    }
   ],
   "source": [
    "df = pd.concat([l1, l2], axis=0)\n",
    "df.head(3), df.tail(3)"
   ]
  },
  {
   "cell_type": "code",
   "execution_count": 23,
   "metadata": {},
   "outputs": [],
   "source": [
    "df.to_csv('data/melon_genre.csv', index=False)"
   ]
  },
  {
   "cell_type": "code",
   "execution_count": 24,
   "metadata": {},
   "outputs": [
    {
     "data": {
      "text/plain": [
       "(3845, 13)"
      ]
     },
     "execution_count": 24,
     "metadata": {},
     "output_type": "execute_result"
    }
   ],
   "source": [
    "df = pd.read_csv('data/melon_genre.csv')\n",
    "df.shape"
   ]
  },
  {
   "cell_type": "code",
   "execution_count": 25,
   "metadata": {},
   "outputs": [
    {
     "data": {
      "text/plain": [
       "3510"
      ]
     },
     "execution_count": 25,
     "metadata": {},
     "output_type": "execute_result"
    }
   ],
   "source": [
    "df.songId.nunique()"
   ]
  },
  {
   "cell_type": "code",
   "execution_count": 26,
   "metadata": {},
   "outputs": [],
   "source": [
    "df2 = pd.read_csv('data/genre/melon_genre_ost_230527.csv')"
   ]
  },
  {
   "cell_type": "code",
   "execution_count": 27,
   "metadata": {},
   "outputs": [
    {
     "data": {
      "text/html": [
       "<div>\n",
       "<style scoped>\n",
       "    .dataframe tbody tr th:only-of-type {\n",
       "        vertical-align: middle;\n",
       "    }\n",
       "\n",
       "    .dataframe tbody tr th {\n",
       "        vertical-align: top;\n",
       "    }\n",
       "\n",
       "    .dataframe thead th {\n",
       "        text-align: right;\n",
       "    }\n",
       "</style>\n",
       "<table border=\"1\" class=\"dataframe\">\n",
       "  <thead>\n",
       "    <tr style=\"text-align: right;\">\n",
       "      <th></th>\n",
       "      <th>songId</th>\n",
       "      <th>title</th>\n",
       "      <th>artist</th>\n",
       "      <th>genre</th>\n",
       "      <th>album</th>\n",
       "      <th>lyricist</th>\n",
       "      <th>composer</th>\n",
       "      <th>date</th>\n",
       "      <th>img</th>\n",
       "      <th>comment</th>\n",
       "      <th>like</th>\n",
       "      <th>lyric</th>\n",
       "      <th>plylstSeq</th>\n",
       "    </tr>\n",
       "  </thead>\n",
       "  <tbody>\n",
       "    <tr>\n",
       "      <th>0</th>\n",
       "      <td>418168</td>\n",
       "      <td>희재</td>\n",
       "      <td>성시경</td>\n",
       "      <td>발라드 국내영화</td>\n",
       "      <td>국화꽃 향기 OST</td>\n",
       "      <td>양재선</td>\n",
       "      <td>MGR</td>\n",
       "      <td>20030201</td>\n",
       "      <td>https://cdnimg.melon.co.kr/cm/album/images/000...</td>\n",
       "      <td>332</td>\n",
       "      <td>138215</td>\n",
       "      <td>햇살은 우릴 위해 내리고 \\n바람도 서롤 감싸게 했죠 \\n우리 웃음속에 계절은 오고...</td>\n",
       "      <td>445029956 411111859</td>\n",
       "    </tr>\n",
       "    <tr>\n",
       "      <th>1</th>\n",
       "      <td>35609035</td>\n",
       "      <td>인생은 뷰티풀</td>\n",
       "      <td>김호중</td>\n",
       "      <td>발라드 국내영화</td>\n",
       "      <td>인생은 뷰티풀: 비타돌체</td>\n",
       "      <td>김호중</td>\n",
       "      <td>원태연</td>\n",
       "      <td>20220907</td>\n",
       "      <td>https://cdnimg.melon.co.kr/cm2/album/images/11...</td>\n",
       "      <td>197</td>\n",
       "      <td>17317</td>\n",
       "      <td>하나만 알고 둘은\\n잘 모르는 사람입니다\\n하루는 비틀거리고\\n하루는 뒤뚱거리고\\n...</td>\n",
       "      <td>457536944 474137187</td>\n",
       "    </tr>\n",
       "  </tbody>\n",
       "</table>\n",
       "</div>"
      ],
      "text/plain": [
       "     songId    title artist     genre          album lyricist composer  \\\n",
       "0    418168       희재    성시경  발라드 국내영화     국화꽃 향기 OST      양재선      MGR   \n",
       "1  35609035  인생은 뷰티풀    김호중  발라드 국내영화  인생은 뷰티풀: 비타돌체      김호중      원태연   \n",
       "\n",
       "       date                                                img comment  \\\n",
       "0  20030201  https://cdnimg.melon.co.kr/cm/album/images/000...     332   \n",
       "1  20220907  https://cdnimg.melon.co.kr/cm2/album/images/11...     197   \n",
       "\n",
       "     like                                              lyric  \\\n",
       "0  138215  햇살은 우릴 위해 내리고 \\n바람도 서롤 감싸게 했죠 \\n우리 웃음속에 계절은 오고...   \n",
       "1   17317  하나만 알고 둘은\\n잘 모르는 사람입니다\\n하루는 비틀거리고\\n하루는 뒤뚱거리고\\n...   \n",
       "\n",
       "             plylstSeq  \n",
       "0  445029956 411111859  \n",
       "1  457536944 474137187  "
      ]
     },
     "execution_count": 27,
     "metadata": {},
     "output_type": "execute_result"
    }
   ],
   "source": [
    "df2.head(2)"
   ]
  },
  {
   "cell_type": "code",
   "execution_count": 29,
   "metadata": {},
   "outputs": [
    {
     "data": {
      "text/html": [
       "<div>\n",
       "<style scoped>\n",
       "    .dataframe tbody tr th:only-of-type {\n",
       "        vertical-align: middle;\n",
       "    }\n",
       "\n",
       "    .dataframe tbody tr th {\n",
       "        vertical-align: top;\n",
       "    }\n",
       "\n",
       "    .dataframe thead th {\n",
       "        text-align: right;\n",
       "    }\n",
       "</style>\n",
       "<table border=\"1\" class=\"dataframe\">\n",
       "  <thead>\n",
       "    <tr style=\"text-align: right;\">\n",
       "      <th></th>\n",
       "      <th>songId</th>\n",
       "      <th>title</th>\n",
       "      <th>artist</th>\n",
       "      <th>genre</th>\n",
       "      <th>album</th>\n",
       "      <th>lyricist</th>\n",
       "      <th>composer</th>\n",
       "      <th>date</th>\n",
       "      <th>img</th>\n",
       "      <th>comment</th>\n",
       "      <th>like</th>\n",
       "      <th>lyric</th>\n",
       "      <th>plylstSeq</th>\n",
       "    </tr>\n",
       "  </thead>\n",
       "  <tbody>\n",
       "    <tr>\n",
       "      <th>944</th>\n",
       "      <td>31980844</td>\n",
       "      <td>나 메셀라</td>\n",
       "      <td>박민성</td>\n",
       "      <td>국내뮤지컬</td>\n",
       "      <td>벤허</td>\n",
       "      <td>왕용범</td>\n",
       "      <td>이성준</td>\n",
       "      <td>20190810</td>\n",
       "      <td>https://cdnimg.melon.co.kr/cm/album/images/103...</td>\n",
       "      <td>3</td>\n",
       "      <td>548</td>\n",
       "      <td>지지리도 가난한 하급 병사의\\n아들로 태어났지\\n아버진 전쟁에서 어머닌\\n전염병으로...</td>\n",
       "      <td>457897578 501077522</td>\n",
       "    </tr>\n",
       "    <tr>\n",
       "      <th>945</th>\n",
       "      <td>35062648</td>\n",
       "      <td>The Confrontation</td>\n",
       "      <td>신성록</td>\n",
       "      <td>국내뮤지컬</td>\n",
       "      <td>뮤지컬 '지킬앤하이드 (Jekyll &amp; Hyde)' 2021 Korean Cast ...</td>\n",
       "      <td>Leslie Bricusse</td>\n",
       "      <td>Frank Wildhorn</td>\n",
       "      <td>20220511</td>\n",
       "      <td>https://cdnimg.melon.co.kr/cm2/album/images/10...</td>\n",
       "      <td>1</td>\n",
       "      <td>182</td>\n",
       "      <td>밤 검은 어둠\\n길 잃은 영혼\\n새벽은 멀고\\n끝없는 밤\\n세상 그 무엇도\\n날 막...</td>\n",
       "      <td>471800202</td>\n",
       "    </tr>\n",
       "    <tr>\n",
       "      <th>946</th>\n",
       "      <td>2582556</td>\n",
       "      <td>마음 굳게 먹어라</td>\n",
       "      <td>서범석</td>\n",
       "      <td>국내뮤지컬</td>\n",
       "      <td>뮤지컬 모차르트! OST</td>\n",
       "      <td>Michael Kunze</td>\n",
       "      <td>Sylvester Levay</td>\n",
       "      <td>20100218</td>\n",
       "      <td>https://cdnimg.melon.co.kr/cm/album/images/008...</td>\n",
       "      <td>1</td>\n",
       "      <td>344</td>\n",
       "      <td>왜 허락했지 \\n왜 허락했나 \\n널 떠나 보낸 내가 싫구나 \\n불안한 생각들 \\n경...</td>\n",
       "      <td>457897578 423636590</td>\n",
       "    </tr>\n",
       "  </tbody>\n",
       "</table>\n",
       "</div>"
      ],
      "text/plain": [
       "       songId              title artist  genre  \\\n",
       "944  31980844              나 메셀라    박민성  국내뮤지컬   \n",
       "945  35062648  The Confrontation    신성록  국내뮤지컬   \n",
       "946   2582556          마음 굳게 먹어라    서범석  국내뮤지컬   \n",
       "\n",
       "                                                 album         lyricist  \\\n",
       "944                                                 벤허              왕용범   \n",
       "945  뮤지컬 '지킬앤하이드 (Jekyll & Hyde)' 2021 Korean Cast ...  Leslie Bricusse   \n",
       "946                                      뮤지컬 모차르트! OST    Michael Kunze   \n",
       "\n",
       "            composer      date  \\\n",
       "944              이성준  20190810   \n",
       "945   Frank Wildhorn  20220511   \n",
       "946  Sylvester Levay  20100218   \n",
       "\n",
       "                                                   img comment  like  \\\n",
       "944  https://cdnimg.melon.co.kr/cm/album/images/103...       3   548   \n",
       "945  https://cdnimg.melon.co.kr/cm2/album/images/10...       1   182   \n",
       "946  https://cdnimg.melon.co.kr/cm/album/images/008...       1   344   \n",
       "\n",
       "                                                 lyric            plylstSeq  \n",
       "944  지지리도 가난한 하급 병사의\\n아들로 태어났지\\n아버진 전쟁에서 어머닌\\n전염병으로...  457897578 501077522  \n",
       "945  밤 검은 어둠\\n길 잃은 영혼\\n새벽은 멀고\\n끝없는 밤\\n세상 그 무엇도\\n날 막...            471800202  \n",
       "946  왜 허락했지 \\n왜 허락했나 \\n널 떠나 보낸 내가 싫구나 \\n불안한 생각들 \\n경...  457897578 423636590  "
      ]
     },
     "execution_count": 29,
     "metadata": {},
     "output_type": "execute_result"
    }
   ],
   "source": [
    "df2.tail(3)"
   ]
  },
  {
   "cell_type": "code",
   "execution_count": 28,
   "metadata": {},
   "outputs": [
    {
     "data": {
      "text/plain": [
       "(     songId         title artist      genre               album lyricist  \\\n",
       " 0  36404853            물론     허각        발라드                  물론      윤사라   \n",
       " 1  36382580      헤어지자 말해요    박재정        발라드            1집 Alone      박재정   \n",
       " 2  36394038  Heaven(2023)    임재현  발라드 국내드라마  시작은 첫키스 OST Part.1      강은경   \n",
       " \n",
       "   composer        date                                                img  \\\n",
       " 0      조영수  20230428.0  https://cdnimg.melon.co.kr/cm2/album/images/11...   \n",
       " 1      박재정  20230420.0  https://cdnimg.melon.co.kr/cm2/album/images/11...   \n",
       " 2      원상우  20230425.0  https://cdnimg.melon.co.kr/cm2/album/images/11...   \n",
       " \n",
       "   comment   like                                              lyric  \\\n",
       " 0     111  25503  가진 게 그리 많진 않아\\n어쩌면 많이 부족할지 몰라\\n가끔 나와 다투기도 하겠지만...   \n",
       " 1     629  34290  헤어지자고 말하려 오늘\\n너에게 가다가 우리 추억 생각해 봤어\\n처음 본 네 얼굴\\...   \n",
       " 2      66  23345  왜 이제 왔나요 더 야윈 그대\\n나만큼 힘들었나요\\n두 번 살게 하네요 그대 내 삶...   \n",
       " \n",
       "              plylstSeq  \n",
       " 0  457624642 457536543  \n",
       " 1  457536543 405075509  \n",
       " 2  457536543 405075509  ,\n",
       "        songId              title artist  genre  \\\n",
       " 944  31980844              나 메셀라    박민성  국내뮤지컬   \n",
       " 945  35062648  The Confrontation    신성록  국내뮤지컬   \n",
       " 946   2582556          마음 굳게 먹어라    서범석  국내뮤지컬   \n",
       " \n",
       "                                                  album         lyricist  \\\n",
       " 944                                                 벤허              왕용범   \n",
       " 945  뮤지컬 '지킬앤하이드 (Jekyll & Hyde)' 2021 Korean Cast ...  Leslie Bricusse   \n",
       " 946                                      뮤지컬 모차르트! OST    Michael Kunze   \n",
       " \n",
       "             composer        date  \\\n",
       " 944              이성준  20190810.0   \n",
       " 945   Frank Wildhorn  20220511.0   \n",
       " 946  Sylvester Levay  20100218.0   \n",
       " \n",
       "                                                    img comment like  \\\n",
       " 944  https://cdnimg.melon.co.kr/cm/album/images/103...       3  548   \n",
       " 945  https://cdnimg.melon.co.kr/cm2/album/images/10...       1  182   \n",
       " 946  https://cdnimg.melon.co.kr/cm/album/images/008...       1  344   \n",
       " \n",
       "                                                  lyric            plylstSeq  \n",
       " 944  지지리도 가난한 하급 병사의\\n아들로 태어났지\\n아버진 전쟁에서 어머닌\\n전염병으로...  457897578 501077522  \n",
       " 945  밤 검은 어둠\\n길 잃은 영혼\\n새벽은 멀고\\n끝없는 밤\\n세상 그 무엇도\\n날 막...            471800202  \n",
       " 946  왜 허락했지 \\n왜 허락했나 \\n널 떠나 보낸 내가 싫구나 \\n불안한 생각들 \\n경...  457897578 423636590  )"
      ]
     },
     "execution_count": 28,
     "metadata": {},
     "output_type": "execute_result"
    }
   ],
   "source": [
    "df3 = pd.concat([df, df2], axis=0)\n",
    "df3.head(3), df3.tail(3)"
   ]
  },
  {
   "cell_type": "code",
   "execution_count": 31,
   "metadata": {},
   "outputs": [],
   "source": [
    "df3.set_index('songId', inplace=True)\n",
    "df3.reset_index(inplace=True)"
   ]
  },
  {
   "cell_type": "code",
   "execution_count": 33,
   "metadata": {},
   "outputs": [],
   "source": [
    "df3.to_csv('data/genre/melon_genre_concat.csv')"
   ]
  },
  {
   "cell_type": "code",
   "execution_count": null,
   "metadata": {},
   "outputs": [],
   "source": []
  }
 ],
 "metadata": {
  "kernelspec": {
   "display_name": "base",
   "language": "python",
   "name": "python3"
  },
  "language_info": {
   "codemirror_mode": {
    "name": "ipython",
    "version": 3
   },
   "file_extension": ".py",
   "mimetype": "text/x-python",
   "name": "python",
   "nbconvert_exporter": "python",
   "pygments_lexer": "ipython3",
   "version": "3.10.9"
  },
  "orig_nbformat": 4
 },
 "nbformat": 4,
 "nbformat_minor": 2
}
