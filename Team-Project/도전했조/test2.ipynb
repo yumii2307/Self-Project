{
 "cells": [
  {
   "cell_type": "code",
   "execution_count": 16,
   "metadata": {},
   "outputs": [],
   "source": [
    "import numpy as np\n",
    "import pandas as pd\n",
    "import requests, time\n",
    "from tqdm import tqdm\n",
    "from bs4 import BeautifulSoup\n",
    "from selenium import webdriver\n",
    "import warnings\n",
    "warnings.filterwarnings('ignore')"
   ]
  },
  {
   "cell_type": "code",
   "execution_count": 17,
   "metadata": {},
   "outputs": [],
   "source": [
    "options = webdriver.ChromeOptions()\n",
    "options.add_argument('--headless')\n",
    "options.add_argument('--no-sandbox')\n",
    "options.add_argument(\"--single-process\")\n",
    "options.add_argument(\"--disable-dev-shm-usage\")\n",
    "driver = webdriver.Chrome('C:/Users/YONSAI/Downloads/chromedriver', options=options)"
   ]
  },
  {
   "cell_type": "code",
   "execution_count": 19,
   "metadata": {},
   "outputs": [
    {
     "name": "stderr",
     "output_type": "stream",
     "text": [
      "100%|██████████| 8/8 [03:01<00:00, 22.73s/it]\n"
     ]
    }
   ],
   "source": [
    "songIds = []\n",
    "base_url = 'https://www.melon.com/genre/song_list.htm?params%5BdtlGnrCode%5D=&params%5BorderBy%5D=POP&params%5BsteadyYn%5D=N&po=pageObj&params%5BdtlGnrCode%5D=params%5BorderBy%5D=POP&params%5BsteadyYn%5D=N&po=pageObj&gnrCode=GN0'\n",
    "genre_url = '#params%5BgnrCode%5D=GN0'\n",
    "index_url = '&startIndex='\n",
    "for i in tqdm(range(100, 801, 100)):\n",
    "    main_url = f'{base_url}{i}{genre_url}{i}&params%5BdtlGnrCode%5D=&params%5BorderBy%5D=POP&params%5BsteadyYn%5D=N&po=pageObj'\n",
    "    for k in range(1, 452, 50):\n",
    "        page_url = f'{main_url}{index_url}{k}'\n",
    "        driver.get(page_url)\n",
    "        time.sleep(2)\n",
    "        soup = BeautifulSoup(driver.page_source, 'html.parser')\n",
    "        trs = soup.select('tbody > tr')\n",
    "        for tr in trs:\n",
    "            if tr.select_one('.bullet_icons.age_19'):\n",
    "                continue\n",
    "            songId = tr.select_one('.btn.button_icons.type03.song_info')['href'].split(\"'\")[-2]\n",
    "            songIds.append(songId)"
   ]
  },
  {
   "cell_type": "code",
   "execution_count": 4,
   "metadata": {},
   "outputs": [
    {
     "data": {
      "text/plain": [
       "3970"
      ]
     },
     "execution_count": 4,
     "metadata": {},
     "output_type": "execute_result"
    }
   ],
   "source": [
    "len(songIds)"
   ]
  },
  {
   "cell_type": "code",
   "execution_count": 30,
   "metadata": {},
   "outputs": [
    {
     "name": "stderr",
     "output_type": "stream",
     "text": [
      "  2%|▏         | 6/300 [00:16<14:19,  2.92s/it]"
     ]
    }
   ],
   "source": [
    "infos = []\n",
    "for songId in tqdm(songIds[:300]):\n",
    "    try:\n",
    "        song_url = f'https://www.melon.com/song/detail.htm?songId={songId}'\n",
    "        driver.get(song_url)\n",
    "        time.sleep(2)\n",
    "        soup = BeautifulSoup(driver.page_source, 'html.parser')\n",
    "        info = soup.select_one('#conts')\n",
    "        songId = info.select_one('#btnLike')['data-song-no']\n",
    "        title = info.select_one('.song_name').get_text().strip().split('\\t')[-1].replace(',', '')\n",
    "        artist = info.select_one('.artist_name').get_text().replace(',', '')\n",
    "        genre = info.select_one('dl > dd:nth-child(6)').get_text().replace(',', '')\n",
    "        album = info.select_one('.list > dd').get_text().replace(',', '')\n",
    "        ul = info.select('.list_person.clfix > li')\n",
    "        lyricist = ul[0].select_one('.artist_name').get_text().strip().replace(',', '')\n",
    "        composer = ul[1].select_one('.artist_name').get_text().strip().replace(',', '')\n",
    "        date = info.select_one('dl > dd:nth-child(4)').get_text().replace('.','')\n",
    "        img = info.select_one('.image_typeAll > img')['src']\n",
    "        comment = info.select_one('#revCnt').get_text().replace('개', '').replace(',', '')\n",
    "        like = info.select_one('#d_like_count').get_text().replace(',', '')\n",
    "        lyric = str(info.select_one('#d_video_summary')).split('\\n')[-2].replace('\\t', '').replace('<br/>', '\\n').strip().replace(',', '')\n",
    "        try:\n",
    "            buttons = soup.select('.meta > button')\n",
    "            plylstSeq = ' '.join([button['data-djcol-no'] for button in buttons])\n",
    "            infos.append({'songId': songId, 'title': title, 'artist': artist, 'genre':genre,\n",
    "                        'album': album, 'lyricist': lyricist, 'composer': composer, 'date':date, 'img': img,\n",
    "                        'comment': comment, 'like': like, 'lyric': lyric, 'plylstSeq': plylstSeq})\n",
    "        except:\n",
    "            plylstSeq = np.nan\n",
    "            infos.append({'songId': songId, 'title': title, 'artist': artist, 'genre':genre,\n",
    "                        'album': album, 'lyricist': lyricist, 'composer': composer, 'date':date, 'img': img,\n",
    "                        'comment': comment, 'like': like, 'lyric': lyric, 'plylstSeq': plylstSeq})\n",
    "\n",
    "    except:\n",
    "        continue"
   ]
  },
  {
   "cell_type": "code",
   "execution_count": 14,
   "metadata": {},
   "outputs": [
    {
     "data": {
      "text/plain": [
       "255"
      ]
     },
     "execution_count": 14,
     "metadata": {},
     "output_type": "execute_result"
    }
   ],
   "source": [
    "df = pd.DataFrame(infos)\n",
    "df.shape[0]"
   ]
  },
  {
   "cell_type": "code",
   "execution_count": 15,
   "metadata": {},
   "outputs": [
    {
     "data": {
      "text/html": [
       "<div>\n",
       "<style scoped>\n",
       "    .dataframe tbody tr th:only-of-type {\n",
       "        vertical-align: middle;\n",
       "    }\n",
       "\n",
       "    .dataframe tbody tr th {\n",
       "        vertical-align: top;\n",
       "    }\n",
       "\n",
       "    .dataframe thead th {\n",
       "        text-align: right;\n",
       "    }\n",
       "</style>\n",
       "<table border=\"1\" class=\"dataframe\">\n",
       "  <thead>\n",
       "    <tr style=\"text-align: right;\">\n",
       "      <th></th>\n",
       "      <th>songId</th>\n",
       "      <th>title</th>\n",
       "      <th>artist</th>\n",
       "      <th>genre</th>\n",
       "      <th>album</th>\n",
       "      <th>lyricist</th>\n",
       "      <th>composer</th>\n",
       "      <th>date</th>\n",
       "      <th>img</th>\n",
       "      <th>comment</th>\n",
       "      <th>like</th>\n",
       "      <th>lyric</th>\n",
       "      <th>plylstSeq</th>\n",
       "    </tr>\n",
       "  </thead>\n",
       "  <tbody>\n",
       "    <tr>\n",
       "      <th>0</th>\n",
       "      <td>32341095</td>\n",
       "      <td>막걸리 한잔</td>\n",
       "      <td>영탁</td>\n",
       "      <td>성인가요/트로트</td>\n",
       "      <td>내일은 미스터트롯 데스매치 PART1</td>\n",
       "      <td>류선우</td>\n",
       "      <td>류선우</td>\n",
       "      <td>20200130</td>\n",
       "      <td>https://cdnimg.melon.co.kr/cm2/album/images/10...</td>\n",
       "      <td>1,335</td>\n",
       "      <td>49055</td>\n",
       "      <td>막걸리 한 잔\\n온 동네 소문 났던 천덕꾸러기\\n막내아들 장가가던 날\\n앓던 이가 ...</td>\n",
       "      <td>425524406 457536753</td>\n",
       "    </tr>\n",
       "    <tr>\n",
       "      <th>1</th>\n",
       "      <td>34388834</td>\n",
       "      <td>참 좋은 날</td>\n",
       "      <td>이찬원</td>\n",
       "      <td>성인가요/트로트</td>\n",
       "      <td>참 좋은 날</td>\n",
       "      <td>이찬원</td>\n",
       "      <td>박종근</td>\n",
       "      <td>20211209</td>\n",
       "      <td>https://cdnimg.melon.co.kr/cm2/album/images/10...</td>\n",
       "      <td>394</td>\n",
       "      <td>16633</td>\n",
       "      <td>유난히 힘이 들던 날 꽃이 되어\\n별이 되어 내게로 다가온 당신\\n소리 내어 울고 ...</td>\n",
       "      <td>457536753 482886423</td>\n",
       "    </tr>\n",
       "  </tbody>\n",
       "</table>\n",
       "</div>"
      ],
      "text/plain": [
       "     songId   title artist     genre                 album lyricist composer  \\\n",
       "0  32341095  막걸리 한잔     영탁  성인가요/트로트  내일은 미스터트롯 데스매치 PART1      류선우      류선우   \n",
       "1  34388834  참 좋은 날    이찬원  성인가요/트로트                참 좋은 날      이찬원      박종근   \n",
       "\n",
       "       date                                                img comment   like  \\\n",
       "0  20200130  https://cdnimg.melon.co.kr/cm2/album/images/10...   1,335  49055   \n",
       "1  20211209  https://cdnimg.melon.co.kr/cm2/album/images/10...     394  16633   \n",
       "\n",
       "                                               lyric            plylstSeq  \n",
       "0  막걸리 한 잔\\n온 동네 소문 났던 천덕꾸러기\\n막내아들 장가가던 날\\n앓던 이가 ...  425524406 457536753  \n",
       "1  유난히 힘이 들던 날 꽃이 되어\\n별이 되어 내게로 다가온 당신\\n소리 내어 울고 ...  457536753 482886423  "
      ]
     },
     "execution_count": 15,
     "metadata": {},
     "output_type": "execute_result"
    }
   ],
   "source": [
    "df.to_csv('data/melon_genre11.csv', index=False)\n",
    "pd.read_csv('data/melon_genre11.csv').head(2)\n"
   ]
  }
 ],
 "metadata": {
  "kernelspec": {
   "display_name": "base",
   "language": "python",
   "name": "python3"
  },
  "language_info": {
   "codemirror_mode": {
    "name": "ipython",
    "version": 3
   },
   "file_extension": ".py",
   "mimetype": "text/x-python",
   "name": "python",
   "nbconvert_exporter": "python",
   "pygments_lexer": "ipython3",
   "version": "3.10.9"
  },
  "orig_nbformat": 4
 },
 "nbformat": 4,
 "nbformat_minor": 2
}
