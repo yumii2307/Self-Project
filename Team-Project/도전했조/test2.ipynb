{
 "cells": [
  {
   "cell_type": "code",
   "execution_count": 1,
   "metadata": {},
   "outputs": [],
   "source": [
    "import numpy as np\n",
    "import pandas as pd\n",
    "import requests, time\n",
    "from tqdm import tqdm\n",
    "from bs4 import BeautifulSoup\n",
    "from selenium import webdriver\n",
    "import warnings\n",
    "warnings.filterwarnings('ignore')"
   ]
  },
  {
   "cell_type": "code",
   "execution_count": 2,
   "metadata": {},
   "outputs": [],
   "source": [
    "options = webdriver.ChromeOptions()\n",
    "options.add_argument('--headless')\n",
    "options.add_argument('--no-sandbox')\n",
    "options.add_argument(\"--single-process\")\n",
    "options.add_argument(\"--disable-dev-shm-usage\")\n",
    "driver = webdriver.Chrome('C:/Users/YONSAI/Downloads/chromedriver', options=options)"
   ]
  },
  {
   "cell_type": "code",
   "execution_count": 3,
   "metadata": {},
   "outputs": [
    {
     "name": "stderr",
     "output_type": "stream",
     "text": [
      "100%|██████████| 8/8 [03:22<00:00, 25.34s/it]\n"
     ]
    }
   ],
   "source": [
    "songIds = []\n",
    "base_url = 'https://www.melon.com/genre/song_list.htm?params%5BdtlGnrCode%5D=&params%5BorderBy%5D=POP&params%5BsteadyYn%5D=N&po=pageObj&params%5BdtlGnrCode%5D=params%5BorderBy%5D=POP&params%5BsteadyYn%5D=N&po=pageObj&gnrCode=GN0'\n",
    "genre_url = '#params%5BgnrCode%5D=GN0'\n",
    "index_url = '&startIndex='\n",
    "for i in tqdm(range(100, 801, 100)):\n",
    "    main_url = f'{base_url}{i}{genre_url}{i}&params%5BdtlGnrCode%5D=&params%5BorderBy%5D=POP&params%5BsteadyYn%5D=N&po=pageObj'\n",
    "    for k in range(1, 452, 50):\n",
    "        page_url = f'{main_url}{index_url}{k}'\n",
    "        driver.get(page_url)\n",
    "        time.sleep(2)\n",
    "        soup = BeautifulSoup(driver.page_source, 'html.parser')\n",
    "        trs = soup.select('tbody > tr')\n",
    "        for tr in trs:\n",
    "            try:\n",
    "                if tr.select_one('.bullet_icons.age_19'):\n",
    "                    continue\n",
    "                songId = tr.select_one('.btn.button_icons.type03.song_info')['href'].split(\"'\")[-2]\n",
    "                songIds.append(songId)\n",
    "            except:\n",
    "                print(page_url)"
   ]
  },
  {
   "cell_type": "code",
   "execution_count": 5,
   "metadata": {},
   "outputs": [
    {
     "data": {
      "text/plain": [
       "3970"
      ]
     },
     "execution_count": 5,
     "metadata": {},
     "output_type": "execute_result"
    }
   ],
   "source": [
    "len(songIds)"
   ]
  },
  {
   "attachments": {},
   "cell_type": "markdown",
   "metadata": {},
   "source": [
    "songIds[1800:1805]\n",
    "['30672385', '30715020', '33425479', '36134783', '1755551']"
   ]
  },
  {
   "cell_type": "code",
   "execution_count": 20,
   "metadata": {},
   "outputs": [
    {
     "name": "stderr",
     "output_type": "stream",
     "text": [
      "100%|██████████| 300/300 [17:04<00:00,  3.42s/it]\n"
     ]
    }
   ],
   "source": [
    "infos = []\n",
    "for songId in tqdm(songIds[1800:2100]):\n",
    "    try:\n",
    "        song_url = f'https://www.melon.com/song/detail.htm?songId={songId}'\n",
    "        driver.get(song_url)\n",
    "        time.sleep(2)\n",
    "        soup = BeautifulSoup(driver.page_source, 'html.parser')\n",
    "        info = soup.select_one('#conts')\n",
    "        songId = info.select_one('#btnLike')['data-song-no']\n",
    "        title = info.select_one('.song_name').get_text().strip().split('\\t')[-1]\n",
    "        artist = info.select_one('.artist_name').get_text()\n",
    "        genre = info.select_one('dl > dd:nth-child(6)').get_text().replace(',', '')\n",
    "        album = info.select_one('.list > dd').get_text()\n",
    "        ul = info.select('.list_person.clfix > li')\n",
    "        lyricist = ul[0].select_one('.artist_name').get_text()\n",
    "        composer = ul[1].select_one('.artist_name').get_text()\n",
    "        date = info.select_one('dl > dd:nth-child(4)').get_text().replace('.','')\n",
    "        img = info.select_one('.image_typeAll > img')['src']\n",
    "        comment = info.select_one('#revCnt').get_text().replace('개', '')\n",
    "        like = info.select_one('#d_like_count').get_text().replace(',', '')\n",
    "        lyric = str(info.select_one('.lyric')).split('\\t\\t\\t')[-1].replace('\\t', '').replace('<br/>', '\\n').split('</div>')[0].strip()\n",
    "        try:\n",
    "            buttons = soup.select('.meta > button')\n",
    "            plylstSeq = ' '.join([button['data-djcol-no'] for button in buttons])\n",
    "            infos.append({'songId': songId, 'title': title, 'artist': artist, 'genre':genre,\n",
    "                        'album': album, 'lyricist': lyricist, 'composer': composer, 'date':date, 'img': img,\n",
    "                        'comment': comment, 'like': like, 'lyric': lyric, 'plylstSeq': plylstSeq})\n",
    "        except:\n",
    "            plylstSeq = np.nan\n",
    "            infos.append({'songId': songId, 'title': title, 'artist': artist, 'genre':genre,\n",
    "                        'album': album, 'lyricist': lyricist, 'composer': composer, 'date':date, 'img': img,\n",
    "                        'comment': comment, 'like': like, 'lyric': lyric, 'plylstSeq': plylstSeq})\n",
    "\n",
    "    except:\n",
    "        continue"
   ]
  },
  {
   "cell_type": "code",
   "execution_count": 21,
   "metadata": {},
   "outputs": [
    {
     "data": {
      "text/plain": [
       "297"
      ]
     },
     "execution_count": 21,
     "metadata": {},
     "output_type": "execute_result"
    }
   ],
   "source": [
    "df = pd.DataFrame(infos)\n",
    "df.shape[0]"
   ]
  },
  {
   "cell_type": "code",
   "execution_count": 22,
   "metadata": {},
   "outputs": [
    {
     "data": {
      "text/html": [
       "<div>\n",
       "<style scoped>\n",
       "    .dataframe tbody tr th:only-of-type {\n",
       "        vertical-align: middle;\n",
       "    }\n",
       "\n",
       "    .dataframe tbody tr th {\n",
       "        vertical-align: top;\n",
       "    }\n",
       "\n",
       "    .dataframe thead th {\n",
       "        text-align: right;\n",
       "    }\n",
       "</style>\n",
       "<table border=\"1\" class=\"dataframe\">\n",
       "  <thead>\n",
       "    <tr style=\"text-align: right;\">\n",
       "      <th></th>\n",
       "      <th>songId</th>\n",
       "      <th>title</th>\n",
       "      <th>artist</th>\n",
       "      <th>genre</th>\n",
       "      <th>album</th>\n",
       "      <th>lyricist</th>\n",
       "      <th>composer</th>\n",
       "      <th>date</th>\n",
       "      <th>img</th>\n",
       "      <th>comment</th>\n",
       "      <th>like</th>\n",
       "      <th>lyric</th>\n",
       "      <th>plylstSeq</th>\n",
       "    </tr>\n",
       "  </thead>\n",
       "  <tbody>\n",
       "    <tr>\n",
       "      <th>0</th>\n",
       "      <td>36081382</td>\n",
       "      <td>친구로 지내다 보면 (Feat. 김민석 of 멜로망스)</td>\n",
       "      <td>BIG Naughty (서동현)</td>\n",
       "      <td>R&amp;B/Soul</td>\n",
       "      <td>친구로 지내다 보면</td>\n",
       "      <td>BIG Naughty (서동현)</td>\n",
       "      <td>dress</td>\n",
       "      <td>20230129</td>\n",
       "      <td>https://cdnimg.melon.co.kr/cm2/album/images/11...</td>\n",
       "      <td>267</td>\n",
       "      <td>41335</td>\n",
       "      <td>친구로 지내다 보면\\n계속 네 옆에 있다 보면\\n언젠가는 나에게도\\n기회가 오지 않...</td>\n",
       "      <td>457417618 458920936</td>\n",
       "    </tr>\n",
       "    <tr>\n",
       "      <th>1</th>\n",
       "      <td>32243273</td>\n",
       "      <td>Square (2017)</td>\n",
       "      <td>백예린 (Yerin Baek)</td>\n",
       "      <td>R&amp;B/Soul</td>\n",
       "      <td>Every letter I sent you.</td>\n",
       "      <td>백예린 (Yerin Baek)</td>\n",
       "      <td>백예린 (Yerin Baek)</td>\n",
       "      <td>20191210</td>\n",
       "      <td>https://cdnimg.melon.co.kr/cm2/album/images/10...</td>\n",
       "      <td>2,774</td>\n",
       "      <td>276495</td>\n",
       "      <td>NaN</td>\n",
       "      <td>478102836 411111859</td>\n",
       "    </tr>\n",
       "  </tbody>\n",
       "</table>\n",
       "</div>"
      ],
      "text/plain": [
       "     songId                           title             artist     genre   \n",
       "0  36081382  친구로 지내다 보면 (Feat. 김민석 of 멜로망스)  BIG Naughty (서동현)  R&B/Soul  \\\n",
       "1  32243273                   Square (2017)   백예린 (Yerin Baek)  R&B/Soul   \n",
       "\n",
       "                      album           lyricist          composer      date   \n",
       "0                친구로 지내다 보면  BIG Naughty (서동현)             dress  20230129  \\\n",
       "1  Every letter I sent you.   백예린 (Yerin Baek)  백예린 (Yerin Baek)  20191210   \n",
       "\n",
       "                                                 img comment    like   \n",
       "0  https://cdnimg.melon.co.kr/cm2/album/images/11...     267   41335  \\\n",
       "1  https://cdnimg.melon.co.kr/cm2/album/images/10...   2,774  276495   \n",
       "\n",
       "                                               lyric            plylstSeq  \n",
       "0  친구로 지내다 보면\\n계속 네 옆에 있다 보면\\n언젠가는 나에게도\\n기회가 오지 않...  457417618 458920936  \n",
       "1                                                NaN  478102836 411111859  "
      ]
     },
     "execution_count": 22,
     "metadata": {},
     "output_type": "execute_result"
    }
   ],
   "source": [
    "df.to_csv('data/melon_genre7.csv', index=False)\n",
    "pd.read_csv('data/melon_genre7.csv').head(2)"
   ]
  }
 ],
 "metadata": {
  "kernelspec": {
   "display_name": "base",
   "language": "python",
   "name": "python3"
  },
  "language_info": {
   "codemirror_mode": {
    "name": "ipython",
    "version": 3
   },
   "file_extension": ".py",
   "mimetype": "text/x-python",
   "name": "python",
   "nbconvert_exporter": "python",
   "pygments_lexer": "ipython3",
   "version": "3.10.10"
  },
  "orig_nbformat": 4
 },
 "nbformat": 4,
 "nbformat_minor": 2
}
