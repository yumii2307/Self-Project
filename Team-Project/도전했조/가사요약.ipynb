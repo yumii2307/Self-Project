{
 "cells": [
  {
   "cell_type": "code",
   "execution_count": 2,
   "metadata": {},
   "outputs": [
    {
     "name": "stdout",
     "output_type": "stream",
     "text": [
      "문장2.\n",
      "문장1.\n",
      "문장3.\n"
     ]
    }
   ],
   "source": [
    "from collections import Counter\n",
    "\n",
    "sentences = ['문장1.', '문장2.', '문장1.', '문장3.', '문장2.', '문장2.']\n",
    "\n",
    "sentence_counts = Counter(sentences)  # 문장별 빈도 계산\n",
    "\n",
    "most_common_sentences = sentence_counts.most_common(3)  # 가장 빈도가 높은 문장 추출\n",
    "\n",
    "for sentence, count in most_common_sentences:\n",
    "    print(sentence)"
   ]
  },
  {
   "cell_type": "code",
   "execution_count": null,
   "metadata": {},
   "outputs": [],
   "source": []
  }
 ],
 "metadata": {
  "kernelspec": {
   "display_name": "base",
   "language": "python",
   "name": "python3"
  },
  "language_info": {
   "codemirror_mode": {
    "name": "ipython",
    "version": 3
   },
   "file_extension": ".py",
   "mimetype": "text/x-python",
   "name": "python",
   "nbconvert_exporter": "python",
   "pygments_lexer": "ipython3",
   "version": "3.10.10"
  },
  "orig_nbformat": 4
 },
 "nbformat": 4,
 "nbformat_minor": 2
}
