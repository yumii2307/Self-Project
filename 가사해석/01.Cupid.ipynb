{
 "cells": [
  {
   "attachments": {},
   "cell_type": "markdown",
   "metadata": {},
   "source": [
    "### Bag of Words"
   ]
  },
  {
   "cell_type": "code",
   "execution_count": 19,
   "metadata": {},
   "outputs": [
    {
     "name": "stdout",
     "output_type": "stream",
     "text": [
      "[[ 1  1  4  1  1  2  8  1  4  1  4  6  1  3  4  1  1  1  2  4  2  4  4  1\n",
      "   4  1  1  8  2  1  4  1 10  4  1  2  5  4  1  1  1  2  4  1  1  1  4  2\n",
      "   4  2]]\n",
      "{'hopeless': 20, 'romantic': 34, 'life': 23, 'surrounded': 43, 'couples': 4, 'time': 44, 'guess': 18, 'sign': 40, 'oh': 32, 'feeling': 11, 'lonely': 24, 'wish': 49, 'lover': 28, 'hold': 19, 'crying': 5, 'room': 35, 'skeptical': 41, 'love': 27, 'say': 36, 'want': 46, 'gave': 14, 'second': 37, 'chance': 2, 'cupid': 6, 'left': 22, 'stupid': 42, 'way': 48, 'makes': 30, 'feel': 10, 'isn': 21, 'real': 33, 'dumb': 8, 'look': 25, 'arrows': 0, 'everyday': 9, 'got': 17, 'lost': 26, 'flew': 12, 'away': 1, 'waiting': 45, 'waste': 47, 'counting': 3, 'days': 7, 'november': 31, 'loving': 29, 'good': 16, 'girl': 15, 'seeking': 38, 'share': 39, 'fool': 13}\n"
     ]
    }
   ],
   "source": [
    "from sklearn.feature_extraction.text import CountVectorizer\n",
    "cupid = open('data/cupid(twin_ver).txt').read()\n",
    "cvect = CountVectorizer(stop_words='english')\n",
    "print(cvect.fit_transform([cupid]).toarray())\n",
    "print(cvect.vocabulary_)"
   ]
  },
  {
   "cell_type": "code",
   "execution_count": 11,
   "metadata": {},
   "outputs": [
    {
     "data": {
      "text/plain": [
       "[('wish', 49), ('way', 48), ('waste', 47), ('want', 46), ('waiting', 45)]"
      ]
     },
     "execution_count": 11,
     "metadata": {},
     "output_type": "execute_result"
    }
   ],
   "source": [
    "sorted(cvect.vocabulary_.items(), reverse=True)[:5]"
   ]
  },
  {
   "cell_type": "code",
   "execution_count": null,
   "metadata": {},
   "outputs": [],
   "source": []
  }
 ],
 "metadata": {
  "kernelspec": {
   "display_name": "base",
   "language": "python",
   "name": "python3"
  },
  "language_info": {
   "codemirror_mode": {
    "name": "ipython",
    "version": 3
   },
   "file_extension": ".py",
   "mimetype": "text/x-python",
   "name": "python",
   "nbconvert_exporter": "python",
   "pygments_lexer": "ipython3",
   "version": "3.10.10"
  },
  "orig_nbformat": 4
 },
 "nbformat": 4,
 "nbformat_minor": 2
}
